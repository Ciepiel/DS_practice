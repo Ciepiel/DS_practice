{
 "cells": [
  {
   "cell_type": "markdown",
   "id": "f64270be",
   "metadata": {
    "papermill": {
     "duration": 0.006991,
     "end_time": "2024-03-12T11:09:10.477471",
     "exception": false,
     "start_time": "2024-03-12T11:09:10.470480",
     "status": "completed"
    },
    "tags": []
   },
   "source": [
    "**This notebook is an exercise in the [Pandas](https://www.kaggle.com/learn/pandas) course.  You can reference the tutorial at [this link](https://www.kaggle.com/residentmario/data-types-and-missing-values).**\n",
    "\n",
    "---\n"
   ]
  },
  {
   "cell_type": "markdown",
   "id": "9cbad004",
   "metadata": {
    "papermill": {
     "duration": 0.007115,
     "end_time": "2024-03-12T11:09:10.491071",
     "exception": false,
     "start_time": "2024-03-12T11:09:10.483956",
     "status": "completed"
    },
    "tags": []
   },
   "source": [
    "# Introduction\n",
    "\n",
    "Run the following cell to load your data and some utility functions."
   ]
  },
  {
   "cell_type": "code",
   "execution_count": 1,
   "id": "c78f1ea5",
   "metadata": {
    "execution": {
     "iopub.execute_input": "2024-03-12T11:09:10.506393Z",
     "iopub.status.busy": "2024-03-12T11:09:10.505992Z",
     "iopub.status.idle": "2024-03-12T11:09:15.164655Z",
     "shell.execute_reply": "2024-03-12T11:09:15.162320Z"
    },
    "papermill": {
     "duration": 4.670161,
     "end_time": "2024-03-12T11:09:15.168265",
     "exception": false,
     "start_time": "2024-03-12T11:09:10.498104",
     "status": "completed"
    },
    "tags": []
   },
   "outputs": [
    {
     "name": "stdout",
     "output_type": "stream",
     "text": [
      "Setup complete.\n"
     ]
    }
   ],
   "source": [
    "import pandas as pd\n",
    "\n",
    "reviews = pd.read_csv(\"../input/wine-reviews/winemag-data-130k-v2.csv\", index_col=0)\n",
    "\n",
    "from learntools.core import binder; binder.bind(globals())\n",
    "from learntools.pandas.data_types_and_missing_data import *\n",
    "print(\"Setup complete.\")"
   ]
  },
  {
   "cell_type": "markdown",
   "id": "9bc4224f",
   "metadata": {
    "papermill": {
     "duration": 0.005982,
     "end_time": "2024-03-12T11:09:15.180843",
     "exception": false,
     "start_time": "2024-03-12T11:09:15.174861",
     "status": "completed"
    },
    "tags": []
   },
   "source": [
    "# Exercises"
   ]
  },
  {
   "cell_type": "markdown",
   "id": "1e8a2826",
   "metadata": {
    "papermill": {
     "duration": 0.006481,
     "end_time": "2024-03-12T11:09:15.193714",
     "exception": false,
     "start_time": "2024-03-12T11:09:15.187233",
     "status": "completed"
    },
    "tags": []
   },
   "source": [
    "## 1. \n",
    "What is the data type of the `points` column in the dataset?"
   ]
  },
  {
   "cell_type": "code",
   "execution_count": 2,
   "id": "d3308ae9",
   "metadata": {
    "execution": {
     "iopub.execute_input": "2024-03-12T11:09:15.208952Z",
     "iopub.status.busy": "2024-03-12T11:09:15.208493Z",
     "iopub.status.idle": "2024-03-12T11:09:15.220676Z",
     "shell.execute_reply": "2024-03-12T11:09:15.219471Z"
    },
    "papermill": {
     "duration": 0.022473,
     "end_time": "2024-03-12T11:09:15.223162",
     "exception": false,
     "start_time": "2024-03-12T11:09:15.200689",
     "status": "completed"
    },
    "tags": []
   },
   "outputs": [
    {
     "data": {
      "application/javascript": [
       "parent.postMessage({\"jupyterEvent\": \"custom.exercise_interaction\", \"data\": {\"outcomeType\": 1, \"valueTowardsCompletion\": 0.25, \"interactionType\": 1, \"questionType\": 1, \"questionId\": \"1_PointsDtype\", \"learnToolsVersion\": \"0.3.4\", \"failureMessage\": \"\", \"exceptionClass\": \"\", \"trace\": \"\"}}, \"*\")"
      ],
      "text/plain": [
       "<IPython.core.display.Javascript object>"
      ]
     },
     "metadata": {},
     "output_type": "display_data"
    },
    {
     "data": {
      "text/markdown": [
       "<span style=\"color:#33cc33\">Correct</span>"
      ],
      "text/plain": [
       "Correct"
      ]
     },
     "metadata": {},
     "output_type": "display_data"
    }
   ],
   "source": [
    "# Your code here\n",
    "dtype = reviews.points.dtype\n",
    "\n",
    "# Check your answer\n",
    "q1.check()"
   ]
  },
  {
   "cell_type": "code",
   "execution_count": 3,
   "id": "48aa9d0c",
   "metadata": {
    "execution": {
     "iopub.execute_input": "2024-03-12T11:09:15.238781Z",
     "iopub.status.busy": "2024-03-12T11:09:15.238124Z",
     "iopub.status.idle": "2024-03-12T11:09:15.242620Z",
     "shell.execute_reply": "2024-03-12T11:09:15.241714Z"
    },
    "papermill": {
     "duration": 0.015486,
     "end_time": "2024-03-12T11:09:15.245315",
     "exception": false,
     "start_time": "2024-03-12T11:09:15.229829",
     "status": "completed"
    },
    "tags": []
   },
   "outputs": [],
   "source": [
    "#q1.hint()\n",
    "#q1.solution()"
   ]
  },
  {
   "cell_type": "markdown",
   "id": "08e8b799",
   "metadata": {
    "papermill": {
     "duration": 0.006573,
     "end_time": "2024-03-12T11:09:15.259414",
     "exception": false,
     "start_time": "2024-03-12T11:09:15.252841",
     "status": "completed"
    },
    "tags": []
   },
   "source": [
    "## 2. \n",
    "Create a Series from entries in the `points` column, but convert the entries to strings. Hint: strings are `str` in native Python."
   ]
  },
  {
   "cell_type": "code",
   "execution_count": 4,
   "id": "3efd622c",
   "metadata": {
    "execution": {
     "iopub.execute_input": "2024-03-12T11:09:15.275410Z",
     "iopub.status.busy": "2024-03-12T11:09:15.274735Z",
     "iopub.status.idle": "2024-03-12T11:09:15.347942Z",
     "shell.execute_reply": "2024-03-12T11:09:15.346645Z"
    },
    "papermill": {
     "duration": 0.084329,
     "end_time": "2024-03-12T11:09:15.350715",
     "exception": false,
     "start_time": "2024-03-12T11:09:15.266386",
     "status": "completed"
    },
    "tags": []
   },
   "outputs": [
    {
     "data": {
      "application/javascript": [
       "parent.postMessage({\"jupyterEvent\": \"custom.exercise_interaction\", \"data\": {\"outcomeType\": 1, \"valueTowardsCompletion\": 0.25, \"interactionType\": 1, \"questionType\": 1, \"questionId\": \"2_StrPoints\", \"learnToolsVersion\": \"0.3.4\", \"failureMessage\": \"\", \"exceptionClass\": \"\", \"trace\": \"\"}}, \"*\")"
      ],
      "text/plain": [
       "<IPython.core.display.Javascript object>"
      ]
     },
     "metadata": {},
     "output_type": "display_data"
    },
    {
     "data": {
      "text/markdown": [
       "<span style=\"color:#33cc33\">Correct</span>"
      ],
      "text/plain": [
       "Correct"
      ]
     },
     "metadata": {},
     "output_type": "display_data"
    }
   ],
   "source": [
    "point_strings = reviews.points.astype('str')\n",
    "\n",
    "# Check your answer\n",
    "q2.check()"
   ]
  },
  {
   "cell_type": "code",
   "execution_count": 5,
   "id": "9bd073a3",
   "metadata": {
    "execution": {
     "iopub.execute_input": "2024-03-12T11:09:15.367692Z",
     "iopub.status.busy": "2024-03-12T11:09:15.367267Z",
     "iopub.status.idle": "2024-03-12T11:09:15.372561Z",
     "shell.execute_reply": "2024-03-12T11:09:15.371300Z"
    },
    "papermill": {
     "duration": 0.017104,
     "end_time": "2024-03-12T11:09:15.375372",
     "exception": false,
     "start_time": "2024-03-12T11:09:15.358268",
     "status": "completed"
    },
    "tags": []
   },
   "outputs": [],
   "source": [
    "#q2.hint()\n",
    "#q2.solution()"
   ]
  },
  {
   "cell_type": "markdown",
   "id": "1883254b",
   "metadata": {
    "papermill": {
     "duration": 0.006789,
     "end_time": "2024-03-12T11:09:15.389364",
     "exception": false,
     "start_time": "2024-03-12T11:09:15.382575",
     "status": "completed"
    },
    "tags": []
   },
   "source": [
    "## 3.\n",
    "Sometimes the price column is null. How many reviews in the dataset are missing a price?"
   ]
  },
  {
   "cell_type": "code",
   "execution_count": 6,
   "id": "469386ff",
   "metadata": {
    "execution": {
     "iopub.execute_input": "2024-03-12T11:09:15.405745Z",
     "iopub.status.busy": "2024-03-12T11:09:15.405316Z",
     "iopub.status.idle": "2024-03-12T11:09:15.415580Z",
     "shell.execute_reply": "2024-03-12T11:09:15.414340Z"
    },
    "papermill": {
     "duration": 0.021329,
     "end_time": "2024-03-12T11:09:15.418180",
     "exception": false,
     "start_time": "2024-03-12T11:09:15.396851",
     "status": "completed"
    },
    "tags": []
   },
   "outputs": [
    {
     "data": {
      "application/javascript": [
       "parent.postMessage({\"jupyterEvent\": \"custom.exercise_interaction\", \"data\": {\"outcomeType\": 1, \"valueTowardsCompletion\": 0.25, \"interactionType\": 1, \"questionType\": 1, \"questionId\": \"3_CountMissingPrices\", \"learnToolsVersion\": \"0.3.4\", \"failureMessage\": \"\", \"exceptionClass\": \"\", \"trace\": \"\"}}, \"*\")"
      ],
      "text/plain": [
       "<IPython.core.display.Javascript object>"
      ]
     },
     "metadata": {},
     "output_type": "display_data"
    },
    {
     "data": {
      "text/markdown": [
       "<span style=\"color:#33cc33\">Correct</span>"
      ],
      "text/plain": [
       "Correct"
      ]
     },
     "metadata": {},
     "output_type": "display_data"
    }
   ],
   "source": [
    "n_missing_prices = reviews.price.isnull().sum()\n",
    "\n",
    "# Check your answer\n",
    "q3.check()"
   ]
  },
  {
   "cell_type": "code",
   "execution_count": 7,
   "id": "8400e1c8",
   "metadata": {
    "execution": {
     "iopub.execute_input": "2024-03-12T11:09:15.434931Z",
     "iopub.status.busy": "2024-03-12T11:09:15.434500Z",
     "iopub.status.idle": "2024-03-12T11:09:15.440420Z",
     "shell.execute_reply": "2024-03-12T11:09:15.439163Z"
    },
    "papermill": {
     "duration": 0.017358,
     "end_time": "2024-03-12T11:09:15.442985",
     "exception": false,
     "start_time": "2024-03-12T11:09:15.425627",
     "status": "completed"
    },
    "tags": []
   },
   "outputs": [],
   "source": [
    "#q3.hint()\n",
    "#q3.solution()"
   ]
  },
  {
   "cell_type": "markdown",
   "id": "0408ed28",
   "metadata": {
    "papermill": {
     "duration": 0.008712,
     "end_time": "2024-03-12T11:09:15.459593",
     "exception": false,
     "start_time": "2024-03-12T11:09:15.450881",
     "status": "completed"
    },
    "tags": []
   },
   "source": [
    "## 4.\n",
    "What are the most common wine-producing regions? Create a Series counting the number of times each value occurs in the `region_1` field. This field is often missing data, so replace missing values with `Unknown`. Sort in descending order.  Your output should look something like this:\n",
    "\n",
    "```\n",
    "Unknown                    21247\n",
    "Napa Valley                 4480\n",
    "                           ...  \n",
    "Bardolino Superiore            1\n",
    "Primitivo del Tarantino        1\n",
    "Name: region_1, Length: 1230, dtype: int64\n",
    "```"
   ]
  },
  {
   "cell_type": "code",
   "execution_count": 8,
   "id": "975314f0",
   "metadata": {
    "execution": {
     "iopub.execute_input": "2024-03-12T11:09:15.477090Z",
     "iopub.status.busy": "2024-03-12T11:09:15.476646Z",
     "iopub.status.idle": "2024-03-12T11:09:15.571219Z",
     "shell.execute_reply": "2024-03-12T11:09:15.569725Z"
    },
    "papermill": {
     "duration": 0.106827,
     "end_time": "2024-03-12T11:09:15.574058",
     "exception": false,
     "start_time": "2024-03-12T11:09:15.467231",
     "status": "completed"
    },
    "tags": []
   },
   "outputs": [
    {
     "data": {
      "application/javascript": [
       "parent.postMessage({\"jupyterEvent\": \"custom.exercise_interaction\", \"data\": {\"outcomeType\": 1, \"valueTowardsCompletion\": 0.25, \"interactionType\": 1, \"questionType\": 2, \"questionId\": \"4_ReviewsPerRegion\", \"learnToolsVersion\": \"0.3.4\", \"failureMessage\": \"\", \"exceptionClass\": \"\", \"trace\": \"\"}}, \"*\")"
      ],
      "text/plain": [
       "<IPython.core.display.Javascript object>"
      ]
     },
     "metadata": {},
     "output_type": "display_data"
    },
    {
     "data": {
      "text/markdown": [
       "<span style=\"color:#33cc33\">Correct</span>"
      ],
      "text/plain": [
       "Correct"
      ]
     },
     "metadata": {},
     "output_type": "display_data"
    }
   ],
   "source": [
    "# selecting a column to create a Series >> handling NaNs >> aggregation >> sorting\n",
    "# group by would make more sense if we were operating on df and not Series\n",
    "reviews_per_region = reviews.region_1.fillna(\"Unknown\").value_counts().sort_values(ascending=False)\n",
    "\n",
    "# Check your answer\n",
    "q4.check()"
   ]
  },
  {
   "cell_type": "code",
   "execution_count": 9,
   "id": "30213609",
   "metadata": {
    "execution": {
     "iopub.execute_input": "2024-03-12T11:09:15.593149Z",
     "iopub.status.busy": "2024-03-12T11:09:15.592685Z",
     "iopub.status.idle": "2024-03-12T11:09:15.597906Z",
     "shell.execute_reply": "2024-03-12T11:09:15.596750Z"
    },
    "papermill": {
     "duration": 0.016934,
     "end_time": "2024-03-12T11:09:15.600429",
     "exception": false,
     "start_time": "2024-03-12T11:09:15.583495",
     "status": "completed"
    },
    "tags": []
   },
   "outputs": [],
   "source": [
    "#q4.hint()\n",
    "#q4.solution()"
   ]
  },
  {
   "cell_type": "markdown",
   "id": "ba0603c2",
   "metadata": {
    "papermill": {
     "duration": 0.007388,
     "end_time": "2024-03-12T11:09:15.615668",
     "exception": false,
     "start_time": "2024-03-12T11:09:15.608280",
     "status": "completed"
    },
    "tags": []
   },
   "source": [
    "# Keep going\n",
    "\n",
    "Move on to **[renaming and combining](https://www.kaggle.com/residentmario/renaming-and-combining)**."
   ]
  },
  {
   "cell_type": "markdown",
   "id": "fefb67bd",
   "metadata": {
    "papermill": {
     "duration": 0.007405,
     "end_time": "2024-03-12T11:09:15.630834",
     "exception": false,
     "start_time": "2024-03-12T11:09:15.623429",
     "status": "completed"
    },
    "tags": []
   },
   "source": [
    "---\n",
    "\n",
    "\n",
    "\n",
    "\n",
    "*Have questions or comments? Visit the [course discussion forum](https://www.kaggle.com/learn/pandas/discussion) to chat with other learners.*"
   ]
  }
 ],
 "metadata": {
  "kaggle": {
   "accelerator": "none",
   "dataSources": [
    {
     "datasetId": 655,
     "sourceId": 1252,
     "sourceType": "datasetVersion"
    },
    {
     "datasetId": 2321,
     "sourceId": 3919,
     "sourceType": "datasetVersion"
    },
    {
     "datasetId": 2894,
     "sourceId": 4877,
     "sourceType": "datasetVersion"
    },
    {
     "datasetId": 3491,
     "sourceId": 5624,
     "sourceType": "datasetVersion"
    },
    {
     "datasetId": 1442,
     "sourceId": 8172,
     "sourceType": "datasetVersion"
    },
    {
     "datasetId": 9366,
     "sourceId": 13206,
     "sourceType": "datasetVersion"
    },
    {
     "datasetId": 179555,
     "sourceId": 403916,
     "sourceType": "datasetVersion"
    },
    {
     "datasetId": 4549,
     "sourceId": 466349,
     "sourceType": "datasetVersion"
    },
    {
     "datasetId": 2478,
     "sourceId": 1151655,
     "sourceType": "datasetVersion"
    },
    {
     "datasetId": 10128,
     "sourceId": 5438389,
     "sourceType": "datasetVersion"
    }
   ],
   "isGpuEnabled": false,
   "isInternetEnabled": false,
   "language": "python",
   "sourceType": "notebook"
  },
  "kernelspec": {
   "display_name": "Python 3",
   "language": "python",
   "name": "python3"
  },
  "language_info": {
   "codemirror_mode": {
    "name": "ipython",
    "version": 3
   },
   "file_extension": ".py",
   "mimetype": "text/x-python",
   "name": "python",
   "nbconvert_exporter": "python",
   "pygments_lexer": "ipython3",
   "version": "3.10.13"
  },
  "papermill": {
   "default_parameters": {},
   "duration": 9.051036,
   "end_time": "2024-03-12T11:09:16.261904",
   "environment_variables": {},
   "exception": null,
   "input_path": "__notebook__.ipynb",
   "output_path": "__notebook__.ipynb",
   "parameters": {},
   "start_time": "2024-03-12T11:09:07.210868",
   "version": "2.5.0"
  }
 },
 "nbformat": 4,
 "nbformat_minor": 5
}
