{
 "cells": [
  {
   "cell_type": "markdown",
   "id": "db86a085",
   "metadata": {
    "papermill": {
     "duration": 0.006933,
     "end_time": "2024-03-19T19:45:02.597181",
     "exception": false,
     "start_time": "2024-03-19T19:45:02.590248",
     "status": "completed"
    },
    "tags": []
   },
   "source": [
    "**This notebook is an exercise in the [Introduction to Machine Learning](https://www.kaggle.com/learn/intro-to-machine-learning) course.  You can reference the tutorial at [this link](https://www.kaggle.com/dansbecker/model-validation).**\n",
    "\n",
    "---\n"
   ]
  },
  {
   "cell_type": "markdown",
   "id": "c6178b84",
   "metadata": {
    "papermill": {
     "duration": 0.005729,
     "end_time": "2024-03-19T19:45:02.609416",
     "exception": false,
     "start_time": "2024-03-19T19:45:02.603687",
     "status": "completed"
    },
    "tags": []
   },
   "source": [
    "## Recap\n",
    "You've built a model. In this exercise you will test how good your model is.\n",
    "\n",
    "Run the cell below to set up your coding environment where the previous exercise left off."
   ]
  },
  {
   "cell_type": "code",
   "execution_count": 1,
   "id": "96098ca8",
   "metadata": {
    "execution": {
     "iopub.execute_input": "2024-03-19T19:45:02.623677Z",
     "iopub.status.busy": "2024-03-19T19:45:02.623229Z",
     "iopub.status.idle": "2024-03-19T19:45:05.505470Z",
     "shell.execute_reply": "2024-03-19T19:45:05.504020Z"
    },
    "papermill": {
     "duration": 2.892848,
     "end_time": "2024-03-19T19:45:05.508410",
     "exception": false,
     "start_time": "2024-03-19T19:45:02.615562",
     "status": "completed"
    },
    "tags": []
   },
   "outputs": [
    {
     "name": "stdout",
     "output_type": "stream",
     "text": [
      "First in-sample predictions: [208500. 181500. 223500. 140000. 250000.]\n",
      "Actual target values for those homes: [208500, 181500, 223500, 140000, 250000]\n",
      "Setup Complete\n"
     ]
    }
   ],
   "source": [
    "# Code you have previously used to load data\n",
    "import pandas as pd\n",
    "from sklearn.tree import DecisionTreeRegressor\n",
    "\n",
    "# Path of the file to read\n",
    "iowa_file_path = '../input/home-data-for-ml-course/train.csv'\n",
    "\n",
    "home_data = pd.read_csv(iowa_file_path)\n",
    "y = home_data.SalePrice\n",
    "feature_columns = ['LotArea', 'YearBuilt', '1stFlrSF', '2ndFlrSF', 'FullBath', 'BedroomAbvGr', 'TotRmsAbvGrd']\n",
    "X = home_data[feature_columns]\n",
    "\n",
    "# Specify Model\n",
    "iowa_model = DecisionTreeRegressor()\n",
    "# Fit Model\n",
    "iowa_model.fit(X, y)\n",
    "\n",
    "print(\"First in-sample predictions:\", iowa_model.predict(X.head()))\n",
    "print(\"Actual target values for those homes:\", y.head().tolist())\n",
    "\n",
    "# Set up code checking\n",
    "from learntools.core import binder\n",
    "binder.bind(globals())\n",
    "from learntools.machine_learning.ex4 import *\n",
    "print(\"Setup Complete\")"
   ]
  },
  {
   "cell_type": "markdown",
   "id": "df625c2b",
   "metadata": {
    "papermill": {
     "duration": 0.007079,
     "end_time": "2024-03-19T19:45:05.522839",
     "exception": false,
     "start_time": "2024-03-19T19:45:05.515760",
     "status": "completed"
    },
    "tags": []
   },
   "source": [
    "# Exercises\n",
    "\n",
    "## Step 1: Split Your Data\n",
    "Use the `train_test_split` function to split up your data.\n",
    "\n",
    "Give it the argument `random_state=1` so the `check` functions know what to expect when verifying your code.\n",
    "\n",
    "Recall, your features are loaded in the DataFrame **X** and your target is loaded in **y**.\n"
   ]
  },
  {
   "cell_type": "code",
   "execution_count": 2,
   "id": "9fdf84e0",
   "metadata": {
    "execution": {
     "iopub.execute_input": "2024-03-19T19:45:05.538349Z",
     "iopub.status.busy": "2024-03-19T19:45:05.537816Z",
     "iopub.status.idle": "2024-03-19T19:45:05.555182Z",
     "shell.execute_reply": "2024-03-19T19:45:05.553938Z"
    },
    "papermill": {
     "duration": 0.028436,
     "end_time": "2024-03-19T19:45:05.557818",
     "exception": false,
     "start_time": "2024-03-19T19:45:05.529382",
     "status": "completed"
    },
    "tags": []
   },
   "outputs": [
    {
     "data": {
      "application/javascript": [
       "parent.postMessage({\"jupyterEvent\": \"custom.exercise_interaction\", \"data\": {\"outcomeType\": 1, \"valueTowardsCompletion\": 0.25, \"interactionType\": 1, \"questionType\": 2, \"questionId\": \"1_SplitData\", \"learnToolsVersion\": \"0.3.4\", \"failureMessage\": \"\", \"exceptionClass\": \"\", \"trace\": \"\"}}, \"*\")"
      ],
      "text/plain": [
       "<IPython.core.display.Javascript object>"
      ]
     },
     "metadata": {},
     "output_type": "display_data"
    },
    {
     "data": {
      "text/markdown": [
       "<span style=\"color:#33cc33\">Correct</span>"
      ],
      "text/plain": [
       "Correct"
      ]
     },
     "metadata": {},
     "output_type": "display_data"
    }
   ],
   "source": [
    "# Import the train_test_split function and uncomment\n",
    "from sklearn.model_selection import train_test_split\n",
    "\n",
    "# fill in and uncomment\n",
    "train_X, val_X, train_y, val_y =  train_test_split(X, y, random_state = 1)\n",
    "\n",
    "# Check your answer\n",
    "step_1.check()"
   ]
  },
  {
   "cell_type": "code",
   "execution_count": 3,
   "id": "3f0fbc7c",
   "metadata": {
    "execution": {
     "iopub.execute_input": "2024-03-19T19:45:05.573818Z",
     "iopub.status.busy": "2024-03-19T19:45:05.573319Z",
     "iopub.status.idle": "2024-03-19T19:45:05.578829Z",
     "shell.execute_reply": "2024-03-19T19:45:05.577392Z"
    },
    "papermill": {
     "duration": 0.016428,
     "end_time": "2024-03-19T19:45:05.581400",
     "exception": false,
     "start_time": "2024-03-19T19:45:05.564972",
     "status": "completed"
    },
    "tags": []
   },
   "outputs": [],
   "source": [
    "# The lines below will show you a hint or the solution.\n",
    "# step_1.hint() \n",
    "# step_1.solution()\n"
   ]
  },
  {
   "cell_type": "markdown",
   "id": "57b047a3",
   "metadata": {
    "papermill": {
     "duration": 0.006561,
     "end_time": "2024-03-19T19:45:05.594901",
     "exception": false,
     "start_time": "2024-03-19T19:45:05.588340",
     "status": "completed"
    },
    "tags": []
   },
   "source": [
    "## Step 2: Specify and Fit the Model\n",
    "\n",
    "Create a `DecisionTreeRegressor` model and fit it to the relevant data.\n",
    "Set `random_state` to 1 again when creating the model."
   ]
  },
  {
   "cell_type": "code",
   "execution_count": 4,
   "id": "95554309",
   "metadata": {
    "execution": {
     "iopub.execute_input": "2024-03-19T19:45:05.610829Z",
     "iopub.status.busy": "2024-03-19T19:45:05.610348Z",
     "iopub.status.idle": "2024-03-19T19:45:05.730990Z",
     "shell.execute_reply": "2024-03-19T19:45:05.729649Z"
    },
    "papermill": {
     "duration": 0.131841,
     "end_time": "2024-03-19T19:45:05.733655",
     "exception": false,
     "start_time": "2024-03-19T19:45:05.601814",
     "status": "completed"
    },
    "tags": []
   },
   "outputs": [
    {
     "name": "stdout",
     "output_type": "stream",
     "text": [
      "[186500. 184000. 130000.  92000. 164500. 220000. 335000. 144152. 215000.\n",
      " 262000.]\n",
      "[186500. 184000. 130000.  92000. 164500. 220000. 335000. 144152. 215000.\n",
      " 262000.]\n"
     ]
    },
    {
     "data": {
      "application/javascript": [
       "parent.postMessage({\"jupyterEvent\": \"custom.exercise_interaction\", \"data\": {\"outcomeType\": 1, \"valueTowardsCompletion\": 0.25, \"interactionType\": 1, \"questionType\": 2, \"questionId\": \"2_FitModelWithTrain\", \"learnToolsVersion\": \"0.3.4\", \"failureMessage\": \"\", \"exceptionClass\": \"\", \"trace\": \"\"}}, \"*\")"
      ],
      "text/plain": [
       "<IPython.core.display.Javascript object>"
      ]
     },
     "metadata": {},
     "output_type": "display_data"
    },
    {
     "data": {
      "text/markdown": [
       "<span style=\"color:#33cc33\">Correct</span>"
      ],
      "text/plain": [
       "Correct"
      ]
     },
     "metadata": {},
     "output_type": "display_data"
    }
   ],
   "source": [
    "# You imported DecisionTreeRegressor in your last exercise\n",
    "# and that code has been copied to the setup code above. So, no need to\n",
    "# import it again\n",
    "\n",
    "# Specify the model\n",
    "iowa_model = DecisionTreeRegressor(random_state=1)\n",
    "\n",
    "# Fit iowa_model with the training data.\n",
    "iowa_model.fit(train_X, train_y)\n",
    "\n",
    "# Check your answer\n",
    "step_2.check()"
   ]
  },
  {
   "cell_type": "code",
   "execution_count": 5,
   "id": "066e0c63",
   "metadata": {
    "execution": {
     "iopub.execute_input": "2024-03-19T19:45:05.750495Z",
     "iopub.status.busy": "2024-03-19T19:45:05.750072Z",
     "iopub.status.idle": "2024-03-19T19:45:05.754623Z",
     "shell.execute_reply": "2024-03-19T19:45:05.753379Z"
    },
    "papermill": {
     "duration": 0.016056,
     "end_time": "2024-03-19T19:45:05.757119",
     "exception": false,
     "start_time": "2024-03-19T19:45:05.741063",
     "status": "completed"
    },
    "tags": []
   },
   "outputs": [],
   "source": [
    "# step_2.hint()\n",
    "# step_2.solution()"
   ]
  },
  {
   "cell_type": "markdown",
   "id": "898272d8",
   "metadata": {
    "papermill": {
     "duration": 0.00692,
     "end_time": "2024-03-19T19:45:05.771519",
     "exception": false,
     "start_time": "2024-03-19T19:45:05.764599",
     "status": "completed"
    },
    "tags": []
   },
   "source": [
    "## Step 3: Make Predictions with Validation data\n"
   ]
  },
  {
   "cell_type": "code",
   "execution_count": 6,
   "id": "75f8d850",
   "metadata": {
    "execution": {
     "iopub.execute_input": "2024-03-19T19:45:05.788396Z",
     "iopub.status.busy": "2024-03-19T19:45:05.787963Z",
     "iopub.status.idle": "2024-03-19T19:45:05.801251Z",
     "shell.execute_reply": "2024-03-19T19:45:05.800071Z"
    },
    "papermill": {
     "duration": 0.025285,
     "end_time": "2024-03-19T19:45:05.804245",
     "exception": false,
     "start_time": "2024-03-19T19:45:05.778960",
     "status": "completed"
    },
    "tags": []
   },
   "outputs": [
    {
     "data": {
      "application/javascript": [
       "parent.postMessage({\"jupyterEvent\": \"custom.exercise_interaction\", \"data\": {\"outcomeType\": 1, \"valueTowardsCompletion\": 0.25, \"interactionType\": 1, \"questionType\": 2, \"questionId\": \"3_ValPreds\", \"learnToolsVersion\": \"0.3.4\", \"failureMessage\": \"\", \"exceptionClass\": \"\", \"trace\": \"\"}}, \"*\")"
      ],
      "text/plain": [
       "<IPython.core.display.Javascript object>"
      ]
     },
     "metadata": {},
     "output_type": "display_data"
    },
    {
     "data": {
      "text/markdown": [
       "<span style=\"color:#33cc33\">Correct</span>"
      ],
      "text/plain": [
       "Correct"
      ]
     },
     "metadata": {},
     "output_type": "display_data"
    }
   ],
   "source": [
    "# Predict with all validation observations\n",
    "val_predictions = iowa_model.predict(val_X)\n",
    "\n",
    "# Check your answer\n",
    "step_3.check()"
   ]
  },
  {
   "cell_type": "code",
   "execution_count": 7,
   "id": "2766946c",
   "metadata": {
    "execution": {
     "iopub.execute_input": "2024-03-19T19:45:05.821914Z",
     "iopub.status.busy": "2024-03-19T19:45:05.821364Z",
     "iopub.status.idle": "2024-03-19T19:45:05.826869Z",
     "shell.execute_reply": "2024-03-19T19:45:05.825524Z"
    },
    "papermill": {
     "duration": 0.017537,
     "end_time": "2024-03-19T19:45:05.829604",
     "exception": false,
     "start_time": "2024-03-19T19:45:05.812067",
     "status": "completed"
    },
    "tags": []
   },
   "outputs": [],
   "source": [
    "# step_3.hint()\n",
    "# step_3.solution()"
   ]
  },
  {
   "cell_type": "markdown",
   "id": "886af544",
   "metadata": {
    "papermill": {
     "duration": 0.007406,
     "end_time": "2024-03-19T19:45:05.845081",
     "exception": false,
     "start_time": "2024-03-19T19:45:05.837675",
     "status": "completed"
    },
    "tags": []
   },
   "source": [
    "Inspect your predictions and actual values from validation data."
   ]
  },
  {
   "cell_type": "code",
   "execution_count": 8,
   "id": "3751ddc3",
   "metadata": {
    "execution": {
     "iopub.execute_input": "2024-03-19T19:45:05.863128Z",
     "iopub.status.busy": "2024-03-19T19:45:05.862006Z",
     "iopub.status.idle": "2024-03-19T19:45:05.872142Z",
     "shell.execute_reply": "2024-03-19T19:45:05.870683Z"
    },
    "papermill": {
     "duration": 0.021917,
     "end_time": "2024-03-19T19:45:05.874792",
     "exception": false,
     "start_time": "2024-03-19T19:45:05.852875",
     "status": "completed"
    },
    "tags": []
   },
   "outputs": [
    {
     "name": "stdout",
     "output_type": "stream",
     "text": [
      "[208500. 181500. 223500. 128000. 250000.]\n",
      "[231500, 179500, 122000, 84500, 142000]\n"
     ]
    }
   ],
   "source": [
    "# print the top few validation predictions\n",
    "print(iowa_model.predict(X.head()))\n",
    "# print the top few actual prices from validation data\n",
    "print(val_y.head().tolist())"
   ]
  },
  {
   "cell_type": "markdown",
   "id": "2c7edc57",
   "metadata": {
    "papermill": {
     "duration": 0.007495,
     "end_time": "2024-03-19T19:45:05.891259",
     "exception": false,
     "start_time": "2024-03-19T19:45:05.883764",
     "status": "completed"
    },
    "tags": []
   },
   "source": [
    "What do you notice that is different from what you saw with in-sample predictions (which are printed after the top code cell in this page).\n",
    "\n",
    "Do you remember why validation predictions differ from in-sample (or training) predictions? This is an important idea from the last lesson.\n",
    "\n",
    "## Step 4: Calculate the Mean Absolute Error in Validation Data\n"
   ]
  },
  {
   "cell_type": "code",
   "execution_count": 9,
   "id": "8e8df0e1",
   "metadata": {
    "execution": {
     "iopub.execute_input": "2024-03-19T19:45:05.910542Z",
     "iopub.status.busy": "2024-03-19T19:45:05.910026Z",
     "iopub.status.idle": "2024-03-19T19:45:05.922799Z",
     "shell.execute_reply": "2024-03-19T19:45:05.921432Z"
    },
    "papermill": {
     "duration": 0.026192,
     "end_time": "2024-03-19T19:45:05.925286",
     "exception": false,
     "start_time": "2024-03-19T19:45:05.899094",
     "status": "completed"
    },
    "tags": []
   },
   "outputs": [
    {
     "name": "stdout",
     "output_type": "stream",
     "text": [
      "29652.931506849316\n"
     ]
    },
    {
     "data": {
      "application/javascript": [
       "parent.postMessage({\"jupyterEvent\": \"custom.exercise_interaction\", \"data\": {\"outcomeType\": 1, \"valueTowardsCompletion\": 0.25, \"interactionType\": 1, \"questionType\": 1, \"questionId\": \"4_MAE\", \"learnToolsVersion\": \"0.3.4\", \"failureMessage\": \"\", \"exceptionClass\": \"\", \"trace\": \"\"}}, \"*\")"
      ],
      "text/plain": [
       "<IPython.core.display.Javascript object>"
      ]
     },
     "metadata": {},
     "output_type": "display_data"
    },
    {
     "data": {
      "text/markdown": [
       "<span style=\"color:#33cc33\">Correct</span>"
      ],
      "text/plain": [
       "Correct"
      ]
     },
     "metadata": {},
     "output_type": "display_data"
    }
   ],
   "source": [
    "from sklearn.metrics import mean_absolute_error\n",
    "val_mae = mean_absolute_error(val_y, val_predictions)\n",
    "\n",
    "# uncomment following line to see the validation_mae\n",
    "print(val_mae)\n",
    "\n",
    "# Check your answer\n",
    "step_4.check()"
   ]
  },
  {
   "cell_type": "code",
   "execution_count": 10,
   "id": "7c2a3171",
   "metadata": {
    "execution": {
     "iopub.execute_input": "2024-03-19T19:45:05.944309Z",
     "iopub.status.busy": "2024-03-19T19:45:05.943827Z",
     "iopub.status.idle": "2024-03-19T19:45:05.948712Z",
     "shell.execute_reply": "2024-03-19T19:45:05.947527Z"
    },
    "papermill": {
     "duration": 0.017366,
     "end_time": "2024-03-19T19:45:05.950998",
     "exception": false,
     "start_time": "2024-03-19T19:45:05.933632",
     "status": "completed"
    },
    "tags": []
   },
   "outputs": [],
   "source": [
    "#step_4.hint()\n",
    "#step_4.solution()"
   ]
  },
  {
   "cell_type": "markdown",
   "id": "91cf2d55",
   "metadata": {
    "papermill": {
     "duration": 0.00787,
     "end_time": "2024-03-19T19:45:05.967145",
     "exception": false,
     "start_time": "2024-03-19T19:45:05.959275",
     "status": "completed"
    },
    "tags": []
   },
   "source": [
    "Is that MAE good?  There isn't a general rule for what values are good that applies across applications. But you'll see how to use (and improve) this number in the next step.\n",
    "\n",
    "# Keep Going\n",
    "\n",
    "You are ready for **[Underfitting and Overfitting](https://www.kaggle.com/dansbecker/underfitting-and-overfitting).**\n"
   ]
  },
  {
   "cell_type": "markdown",
   "id": "8de34c8b",
   "metadata": {
    "papermill": {
     "duration": 0.00773,
     "end_time": "2024-03-19T19:45:05.983061",
     "exception": false,
     "start_time": "2024-03-19T19:45:05.975331",
     "status": "completed"
    },
    "tags": []
   },
   "source": [
    "---\n",
    "\n",
    "\n",
    "\n",
    "\n",
    "*Have questions or comments? Visit the [course discussion forum](https://www.kaggle.com/learn/intro-to-machine-learning/discussion) to chat with other learners.*"
   ]
  }
 ],
 "metadata": {
  "kaggle": {
   "accelerator": "none",
   "dataSources": [
    {
     "databundleVersionId": 111096,
     "sourceId": 10211,
     "sourceType": "competition"
    },
    {
     "datasetId": 11167,
     "sourceId": 15520,
     "sourceType": "datasetVersion"
    },
    {
     "datasetId": 2709,
     "sourceId": 38454,
     "sourceType": "datasetVersion"
    }
   ],
   "isGpuEnabled": false,
   "isInternetEnabled": false,
   "language": "python",
   "sourceType": "notebook"
  },
  "kernelspec": {
   "display_name": "Python 3",
   "language": "python",
   "name": "python3"
  },
  "language_info": {
   "codemirror_mode": {
    "name": "ipython",
    "version": 3
   },
   "file_extension": ".py",
   "mimetype": "text/x-python",
   "name": "python",
   "nbconvert_exporter": "python",
   "pygments_lexer": "ipython3",
   "version": "3.10.13"
  },
  "papermill": {
   "default_parameters": {},
   "duration": 7.314056,
   "end_time": "2024-03-19T19:45:06.615222",
   "environment_variables": {},
   "exception": null,
   "input_path": "__notebook__.ipynb",
   "output_path": "__notebook__.ipynb",
   "parameters": {},
   "start_time": "2024-03-19T19:44:59.301166",
   "version": "2.5.0"
  }
 },
 "nbformat": 4,
 "nbformat_minor": 5
}
