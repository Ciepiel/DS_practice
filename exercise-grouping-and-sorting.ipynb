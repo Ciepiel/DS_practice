{
 "cells": [
  {
   "cell_type": "markdown",
   "id": "bf0036a9",
   "metadata": {
    "papermill": {
     "duration": 0.009382,
     "end_time": "2024-03-11T14:18:53.213291",
     "exception": false,
     "start_time": "2024-03-11T14:18:53.203909",
     "status": "completed"
    },
    "tags": []
   },
   "source": [
    "**This notebook is an exercise in the [Pandas](https://www.kaggle.com/learn/pandas) course.  You can reference the tutorial at [this link](https://www.kaggle.com/residentmario/grouping-and-sorting).**\n",
    "\n",
    "---\n"
   ]
  },
  {
   "cell_type": "markdown",
   "id": "517b509b",
   "metadata": {
    "papermill": {
     "duration": 0.008364,
     "end_time": "2024-03-11T14:18:53.230481",
     "exception": false,
     "start_time": "2024-03-11T14:18:53.222117",
     "status": "completed"
    },
    "tags": []
   },
   "source": [
    "# Introduction\n",
    "\n",
    "In these exercises we'll apply groupwise analysis to our dataset.\n",
    "\n",
    "Run the code cell below to load the data before running the exercises."
   ]
  },
  {
   "cell_type": "code",
   "execution_count": 1,
   "id": "33b6bd76",
   "metadata": {
    "execution": {
     "iopub.execute_input": "2024-03-11T14:18:53.250227Z",
     "iopub.status.busy": "2024-03-11T14:18:53.249095Z",
     "iopub.status.idle": "2024-03-11T14:18:57.622487Z",
     "shell.execute_reply": "2024-03-11T14:18:57.621278Z"
    },
    "papermill": {
     "duration": 4.386525,
     "end_time": "2024-03-11T14:18:57.625583",
     "exception": false,
     "start_time": "2024-03-11T14:18:53.239058",
     "status": "completed"
    },
    "tags": []
   },
   "outputs": [
    {
     "name": "stdout",
     "output_type": "stream",
     "text": [
      "Setup complete.\n"
     ]
    },
    {
     "name": "stderr",
     "output_type": "stream",
     "text": [
      "/opt/conda/lib/python3.10/site-packages/learntools/pandas/grouping_and_sorting.py:29: FutureWarning: The provided callable <built-in function min> is currently using SeriesGroupBy.min. In a future version of pandas, the provided callable will be used directly. To keep current behavior pass the string \"min\" instead.\n",
      "  _expected = reviews.groupby('variety').price.agg([min, max])\n",
      "/opt/conda/lib/python3.10/site-packages/learntools/pandas/grouping_and_sorting.py:29: FutureWarning: The provided callable <built-in function max> is currently using SeriesGroupBy.max. In a future version of pandas, the provided callable will be used directly. To keep current behavior pass the string \"max\" instead.\n",
      "  _expected = reviews.groupby('variety').price.agg([min, max])\n",
      "/opt/conda/lib/python3.10/site-packages/learntools/pandas/grouping_and_sorting.py:35: FutureWarning: The provided callable <built-in function min> is currently using SeriesGroupBy.min. In a future version of pandas, the provided callable will be used directly. To keep current behavior pass the string \"min\" instead.\n",
      "  _expected = reviews.groupby('variety').price.agg([min, max]).sort_values(by=['min', 'max'], ascending=False)\n",
      "/opt/conda/lib/python3.10/site-packages/learntools/pandas/grouping_and_sorting.py:35: FutureWarning: The provided callable <built-in function max> is currently using SeriesGroupBy.max. In a future version of pandas, the provided callable will be used directly. To keep current behavior pass the string \"max\" instead.\n",
      "  _expected = reviews.groupby('variety').price.agg([min, max]).sort_values(by=['min', 'max'], ascending=False)\n"
     ]
    }
   ],
   "source": [
    "import pandas as pd\n",
    "\n",
    "reviews = pd.read_csv(\"../input/wine-reviews/winemag-data-130k-v2.csv\", index_col=0)\n",
    "#pd.set_option(\"display.max_rows\", 5)\n",
    "\n",
    "from learntools.core import binder; binder.bind(globals())\n",
    "from learntools.pandas.grouping_and_sorting import *\n",
    "print(\"Setup complete.\")"
   ]
  },
  {
   "cell_type": "markdown",
   "id": "92e4ee00",
   "metadata": {
    "papermill": {
     "duration": 0.009211,
     "end_time": "2024-03-11T14:18:57.643928",
     "exception": false,
     "start_time": "2024-03-11T14:18:57.634717",
     "status": "completed"
    },
    "tags": []
   },
   "source": [
    "# Exercises"
   ]
  },
  {
   "cell_type": "markdown",
   "id": "6f0aeacf",
   "metadata": {
    "papermill": {
     "duration": 0.008643,
     "end_time": "2024-03-11T14:18:57.661718",
     "exception": false,
     "start_time": "2024-03-11T14:18:57.653075",
     "status": "completed"
    },
    "tags": []
   },
   "source": [
    "## 1.\n",
    "Who are the most common wine reviewers in the dataset? Create a `Series` whose index is the `taster_twitter_handle` category from the dataset, and whose values count how many reviews each person wrote."
   ]
  },
  {
   "cell_type": "code",
   "execution_count": 2,
   "id": "7c3e8411",
   "metadata": {
    "execution": {
     "iopub.execute_input": "2024-03-11T14:18:57.681336Z",
     "iopub.status.busy": "2024-03-11T14:18:57.680889Z",
     "iopub.status.idle": "2024-03-11T14:18:57.727685Z",
     "shell.execute_reply": "2024-03-11T14:18:57.726504Z"
    },
    "papermill": {
     "duration": 0.059279,
     "end_time": "2024-03-11T14:18:57.729883",
     "exception": false,
     "start_time": "2024-03-11T14:18:57.670604",
     "status": "completed"
    },
    "tags": []
   },
   "outputs": [
    {
     "data": {
      "application/javascript": [
       "parent.postMessage({\"jupyterEvent\": \"custom.exercise_interaction\", \"data\": {\"outcomeType\": 1, \"valueTowardsCompletion\": 0.16666666666666666, \"interactionType\": 1, \"questionType\": 1, \"questionId\": \"1_ReviewsWritten\", \"learnToolsVersion\": \"0.3.4\", \"failureMessage\": \"\", \"exceptionClass\": \"\", \"trace\": \"\"}}, \"*\")"
      ],
      "text/plain": [
       "<IPython.core.display.Javascript object>"
      ]
     },
     "metadata": {},
     "output_type": "display_data"
    },
    {
     "data": {
      "text/markdown": [
       "<span style=\"color:#33cc33\">Correct:</span> \n",
       "\n",
       "\n",
       "```python\n",
       "reviews_written = reviews.groupby('taster_twitter_handle').size()\n",
       "```\n",
       "or\n",
       "```python\n",
       "reviews_written = reviews.groupby('taster_twitter_handle').taster_twitter_handle.count()\n",
       "```\n"
      ],
      "text/plain": [
       "Correct: \n",
       "\n",
       "\n",
       "```python\n",
       "reviews_written = reviews.groupby('taster_twitter_handle').size()\n",
       "```\n",
       "or\n",
       "```python\n",
       "reviews_written = reviews.groupby('taster_twitter_handle').taster_twitter_handle.count()\n",
       "```"
      ]
     },
     "metadata": {},
     "output_type": "display_data"
    }
   ],
   "source": [
    "# Your code here\n",
    "reviews_written = reviews.groupby('taster_twitter_handle').taster_twitter_handle.count()\n",
    "\n",
    "# Check your answer\n",
    "q1.check()"
   ]
  },
  {
   "cell_type": "code",
   "execution_count": 3,
   "id": "b29ebff1",
   "metadata": {
    "execution": {
     "iopub.execute_input": "2024-03-11T14:18:57.750013Z",
     "iopub.status.busy": "2024-03-11T14:18:57.749584Z",
     "iopub.status.idle": "2024-03-11T14:18:57.754473Z",
     "shell.execute_reply": "2024-03-11T14:18:57.753268Z"
    },
    "papermill": {
     "duration": 0.017834,
     "end_time": "2024-03-11T14:18:57.756787",
     "exception": false,
     "start_time": "2024-03-11T14:18:57.738953",
     "status": "completed"
    },
    "tags": []
   },
   "outputs": [],
   "source": [
    "#q1.hint()\n",
    "#q1.solution()"
   ]
  },
  {
   "cell_type": "markdown",
   "id": "2769dcf2",
   "metadata": {
    "papermill": {
     "duration": 0.008923,
     "end_time": "2024-03-11T14:18:57.774961",
     "exception": false,
     "start_time": "2024-03-11T14:18:57.766038",
     "status": "completed"
    },
    "tags": []
   },
   "source": [
    "## 2.\n",
    "What is the best wine I can buy for a given amount of money? Create a `Series` whose index is wine prices and whose values is the maximum number of points a wine costing that much was given in a review. Sort the values by price, ascending (so that `4.0` dollars is at the top and `3300.0` dollars is at the bottom)."
   ]
  },
  {
   "cell_type": "code",
   "execution_count": 4,
   "id": "29f7064e",
   "metadata": {
    "execution": {
     "iopub.execute_input": "2024-03-11T14:18:57.796508Z",
     "iopub.status.busy": "2024-03-11T14:18:57.796069Z",
     "iopub.status.idle": "2024-03-11T14:18:57.810553Z",
     "shell.execute_reply": "2024-03-11T14:18:57.809441Z"
    },
    "papermill": {
     "duration": 0.028343,
     "end_time": "2024-03-11T14:18:57.812895",
     "exception": false,
     "start_time": "2024-03-11T14:18:57.784552",
     "status": "completed"
    },
    "tags": []
   },
   "outputs": [
    {
     "data": {
      "application/javascript": [
       "parent.postMessage({\"jupyterEvent\": \"custom.exercise_interaction\", \"data\": {\"outcomeType\": 1, \"valueTowardsCompletion\": 0.16666666666666666, \"interactionType\": 1, \"questionType\": 1, \"questionId\": \"2_BestRatingPerPrice\", \"learnToolsVersion\": \"0.3.4\", \"failureMessage\": \"\", \"exceptionClass\": \"\", \"trace\": \"\"}}, \"*\")"
      ],
      "text/plain": [
       "<IPython.core.display.Javascript object>"
      ]
     },
     "metadata": {},
     "output_type": "display_data"
    },
    {
     "data": {
      "text/markdown": [
       "<span style=\"color:#33cc33\">Correct</span>"
      ],
      "text/plain": [
       "Correct"
      ]
     },
     "metadata": {},
     "output_type": "display_data"
    }
   ],
   "source": [
    "# criteria to group by (index) in a regular brackets, and value column in square brackets\n",
    "# then we perform the operations - aggregation (max) and sorting\n",
    "best_rating_per_price = reviews.groupby('price')['points'].max().sort_index()\n",
    "\n",
    "# Check your answer\n",
    "q2.check()"
   ]
  },
  {
   "cell_type": "code",
   "execution_count": 5,
   "id": "23de2878",
   "metadata": {
    "execution": {
     "iopub.execute_input": "2024-03-11T14:18:57.833897Z",
     "iopub.status.busy": "2024-03-11T14:18:57.833512Z",
     "iopub.status.idle": "2024-03-11T14:18:57.838423Z",
     "shell.execute_reply": "2024-03-11T14:18:57.837145Z"
    },
    "papermill": {
     "duration": 0.018243,
     "end_time": "2024-03-11T14:18:57.840821",
     "exception": false,
     "start_time": "2024-03-11T14:18:57.822578",
     "status": "completed"
    },
    "tags": []
   },
   "outputs": [],
   "source": [
    "#q2.hint()\n",
    "#q2.solution()"
   ]
  },
  {
   "cell_type": "markdown",
   "id": "5d028a01",
   "metadata": {
    "papermill": {
     "duration": 0.009164,
     "end_time": "2024-03-11T14:18:57.859614",
     "exception": false,
     "start_time": "2024-03-11T14:18:57.850450",
     "status": "completed"
    },
    "tags": []
   },
   "source": [
    "## 3.\n",
    "What are the minimum and maximum prices for each `variety` of wine? Create a `DataFrame` whose index is the `variety` category from the dataset and whose values are the `min` and `max` values thereof."
   ]
  },
  {
   "cell_type": "code",
   "execution_count": 6,
   "id": "2a22cdbf",
   "metadata": {
    "execution": {
     "iopub.execute_input": "2024-03-11T14:18:57.880327Z",
     "iopub.status.busy": "2024-03-11T14:18:57.879587Z",
     "iopub.status.idle": "2024-03-11T14:18:57.919794Z",
     "shell.execute_reply": "2024-03-11T14:18:57.918603Z"
    },
    "papermill": {
     "duration": 0.053602,
     "end_time": "2024-03-11T14:18:57.922514",
     "exception": false,
     "start_time": "2024-03-11T14:18:57.868912",
     "status": "completed"
    },
    "tags": []
   },
   "outputs": [
    {
     "name": "stderr",
     "output_type": "stream",
     "text": [
      "/tmp/ipykernel_18/3819590514.py:2: FutureWarning: The provided callable <built-in function min> is currently using SeriesGroupBy.min. In a future version of pandas, the provided callable will be used directly. To keep current behavior pass the string \"min\" instead.\n",
      "  price_extremes = reviews.groupby(['variety']).price.agg([min, max])\n",
      "/tmp/ipykernel_18/3819590514.py:2: FutureWarning: The provided callable <built-in function max> is currently using SeriesGroupBy.max. In a future version of pandas, the provided callable will be used directly. To keep current behavior pass the string \"max\" instead.\n",
      "  price_extremes = reviews.groupby(['variety']).price.agg([min, max])\n"
     ]
    },
    {
     "data": {
      "application/javascript": [
       "parent.postMessage({\"jupyterEvent\": \"custom.exercise_interaction\", \"data\": {\"outcomeType\": 1, \"valueTowardsCompletion\": 0.16666666666666666, \"interactionType\": 1, \"questionType\": 1, \"questionId\": \"3_PriceExtremes\", \"learnToolsVersion\": \"0.3.4\", \"failureMessage\": \"\", \"exceptionClass\": \"\", \"trace\": \"\"}}, \"*\")"
      ],
      "text/plain": [
       "<IPython.core.display.Javascript object>"
      ]
     },
     "metadata": {},
     "output_type": "display_data"
    },
    {
     "data": {
      "text/markdown": [
       "<span style=\"color:#33cc33\">Correct</span>"
      ],
      "text/plain": [
       "Correct"
      ]
     },
     "metadata": {},
     "output_type": "display_data"
    }
   ],
   "source": [
    "# group by a given index and multi-aggregation\n",
    "price_extremes = reviews.groupby(['variety']).price.agg([min, max])\n",
    "\n",
    "# Check your answer\n",
    "q3.check()"
   ]
  },
  {
   "cell_type": "code",
   "execution_count": 7,
   "id": "75f1dd25",
   "metadata": {
    "execution": {
     "iopub.execute_input": "2024-03-11T14:18:57.944127Z",
     "iopub.status.busy": "2024-03-11T14:18:57.943727Z",
     "iopub.status.idle": "2024-03-11T14:18:57.948082Z",
     "shell.execute_reply": "2024-03-11T14:18:57.947049Z"
    },
    "papermill": {
     "duration": 0.017741,
     "end_time": "2024-03-11T14:18:57.950297",
     "exception": false,
     "start_time": "2024-03-11T14:18:57.932556",
     "status": "completed"
    },
    "tags": []
   },
   "outputs": [],
   "source": [
    "#q3.hint()\n",
    "#q3.solution()"
   ]
  },
  {
   "cell_type": "markdown",
   "id": "b6006403",
   "metadata": {
    "papermill": {
     "duration": 0.00999,
     "end_time": "2024-03-11T14:18:57.970697",
     "exception": false,
     "start_time": "2024-03-11T14:18:57.960707",
     "status": "completed"
    },
    "tags": []
   },
   "source": [
    "## 4.\n",
    "What are the most expensive wine varieties? Create a variable `sorted_varieties` containing a copy of the dataframe from the previous question where varieties are sorted in descending order based on minimum price, then on maximum price (to break ties)."
   ]
  },
  {
   "cell_type": "code",
   "execution_count": 8,
   "id": "a105f85a",
   "metadata": {
    "execution": {
     "iopub.execute_input": "2024-03-11T14:18:57.992568Z",
     "iopub.status.busy": "2024-03-11T14:18:57.992140Z",
     "iopub.status.idle": "2024-03-11T14:18:58.004916Z",
     "shell.execute_reply": "2024-03-11T14:18:58.003343Z"
    },
    "papermill": {
     "duration": 0.026247,
     "end_time": "2024-03-11T14:18:58.007176",
     "exception": false,
     "start_time": "2024-03-11T14:18:57.980929",
     "status": "completed"
    },
    "tags": []
   },
   "outputs": [
    {
     "name": "stdout",
     "output_type": "stream",
     "text": [
      "              min    max\n",
      "variety                 \n",
      "Abouriou     15.0   75.0\n",
      "Agiorgitiko  10.0   66.0\n",
      "Aglianico     6.0  180.0\n",
      "Aidani       27.0   27.0\n",
      "Airen         8.0   10.0\n",
      "...           ...    ...\n",
      "Zinfandel     5.0  100.0\n",
      "Zlahtina     13.0   16.0\n",
      "Zweigelt      9.0   70.0\n",
      "Çalkarası    19.0   19.0\n",
      "Žilavka      15.0   15.0\n",
      "\n",
      "[707 rows x 2 columns]\n"
     ]
    }
   ],
   "source": [
    "print(price_extremes)"
   ]
  },
  {
   "cell_type": "code",
   "execution_count": 9,
   "id": "9d3151ca",
   "metadata": {
    "execution": {
     "iopub.execute_input": "2024-03-11T14:18:58.029089Z",
     "iopub.status.busy": "2024-03-11T14:18:58.028685Z",
     "iopub.status.idle": "2024-03-11T14:18:58.038985Z",
     "shell.execute_reply": "2024-03-11T14:18:58.037963Z"
    },
    "papermill": {
     "duration": 0.023878,
     "end_time": "2024-03-11T14:18:58.041216",
     "exception": false,
     "start_time": "2024-03-11T14:18:58.017338",
     "status": "completed"
    },
    "tags": []
   },
   "outputs": [
    {
     "data": {
      "application/javascript": [
       "parent.postMessage({\"jupyterEvent\": \"custom.exercise_interaction\", \"data\": {\"outcomeType\": 1, \"valueTowardsCompletion\": 0.16666666666666666, \"interactionType\": 1, \"questionType\": 1, \"questionId\": \"4_SortedVarieties\", \"learnToolsVersion\": \"0.3.4\", \"failureMessage\": \"\", \"exceptionClass\": \"\", \"trace\": \"\"}}, \"*\")"
      ],
      "text/plain": [
       "<IPython.core.display.Javascript object>"
      ]
     },
     "metadata": {},
     "output_type": "display_data"
    },
    {
     "data": {
      "text/markdown": [
       "<span style=\"color:#33cc33\">Correct</span>"
      ],
      "text/plain": [
       "Correct"
      ]
     },
     "metadata": {},
     "output_type": "display_data"
    }
   ],
   "source": [
    "sorted_varieties = price_extremes.sort_values(by=['min', 'max'], ascending=False)\n",
    "\n",
    "# Check your answer\n",
    "q4.check()"
   ]
  },
  {
   "cell_type": "code",
   "execution_count": 10,
   "id": "e3ae9eca",
   "metadata": {
    "execution": {
     "iopub.execute_input": "2024-03-11T14:18:58.065826Z",
     "iopub.status.busy": "2024-03-11T14:18:58.065430Z",
     "iopub.status.idle": "2024-03-11T14:18:58.069736Z",
     "shell.execute_reply": "2024-03-11T14:18:58.068717Z"
    },
    "papermill": {
     "duration": 0.020203,
     "end_time": "2024-03-11T14:18:58.071859",
     "exception": false,
     "start_time": "2024-03-11T14:18:58.051656",
     "status": "completed"
    },
    "tags": []
   },
   "outputs": [],
   "source": [
    "#q4.hint()\n",
    "#q4.solution()"
   ]
  },
  {
   "cell_type": "markdown",
   "id": "ff5ff29b",
   "metadata": {
    "papermill": {
     "duration": 0.010246,
     "end_time": "2024-03-11T14:18:58.092443",
     "exception": false,
     "start_time": "2024-03-11T14:18:58.082197",
     "status": "completed"
    },
    "tags": []
   },
   "source": [
    "## 5.\n",
    "Create a `Series` whose index is reviewers and whose values is the average review score given out by that reviewer. Hint: you will need the `taster_name` and `points` columns."
   ]
  },
  {
   "cell_type": "code",
   "execution_count": 11,
   "id": "7c437ef0",
   "metadata": {
    "execution": {
     "iopub.execute_input": "2024-03-11T14:18:58.115098Z",
     "iopub.status.busy": "2024-03-11T14:18:58.114692Z",
     "iopub.status.idle": "2024-03-11T14:18:58.150143Z",
     "shell.execute_reply": "2024-03-11T14:18:58.149313Z"
    },
    "papermill": {
     "duration": 0.049486,
     "end_time": "2024-03-11T14:18:58.152384",
     "exception": false,
     "start_time": "2024-03-11T14:18:58.102898",
     "status": "completed"
    },
    "tags": []
   },
   "outputs": [
    {
     "data": {
      "application/javascript": [
       "parent.postMessage({\"jupyterEvent\": \"custom.exercise_interaction\", \"data\": {\"outcomeType\": 1, \"valueTowardsCompletion\": 0.16666666666666666, \"interactionType\": 1, \"questionType\": 1, \"questionId\": \"5_ReviewerMeanRatings\", \"learnToolsVersion\": \"0.3.4\", \"failureMessage\": \"\", \"exceptionClass\": \"\", \"trace\": \"\"}}, \"*\")"
      ],
      "text/plain": [
       "<IPython.core.display.Javascript object>"
      ]
     },
     "metadata": {},
     "output_type": "display_data"
    },
    {
     "data": {
      "text/markdown": [
       "<span style=\"color:#33cc33\">Correct</span>"
      ],
      "text/plain": [
       "Correct"
      ]
     },
     "metadata": {},
     "output_type": "display_data"
    }
   ],
   "source": [
    "reviewer_mean_ratings = reviews.groupby(['taster_name']).points.mean()\n",
    "\n",
    "# Check your answer\n",
    "q5.check()"
   ]
  },
  {
   "cell_type": "code",
   "execution_count": 12,
   "id": "332bf892",
   "metadata": {
    "execution": {
     "iopub.execute_input": "2024-03-11T14:18:58.175774Z",
     "iopub.status.busy": "2024-03-11T14:18:58.175366Z",
     "iopub.status.idle": "2024-03-11T14:18:58.180246Z",
     "shell.execute_reply": "2024-03-11T14:18:58.179151Z"
    },
    "papermill": {
     "duration": 0.019271,
     "end_time": "2024-03-11T14:18:58.182690",
     "exception": false,
     "start_time": "2024-03-11T14:18:58.163419",
     "status": "completed"
    },
    "tags": []
   },
   "outputs": [],
   "source": [
    "#q5.hint()\n",
    "#q5.solution()"
   ]
  },
  {
   "cell_type": "markdown",
   "id": "d9b51fd1",
   "metadata": {
    "papermill": {
     "duration": 0.011053,
     "end_time": "2024-03-11T14:18:58.204720",
     "exception": false,
     "start_time": "2024-03-11T14:18:58.193667",
     "status": "completed"
    },
    "tags": []
   },
   "source": [
    "Are there significant differences in the average scores assigned by the various reviewers? Run the cell below to use the `describe()` method to see a summary of the range of values."
   ]
  },
  {
   "cell_type": "markdown",
   "id": "d8207f10",
   "metadata": {
    "papermill": {
     "duration": 0.011531,
     "end_time": "2024-03-11T14:18:58.227867",
     "exception": false,
     "start_time": "2024-03-11T14:18:58.216336",
     "status": "completed"
    },
    "tags": []
   },
   "source": [
    "There were 19 ratings in total, with an average rate of 88.2.\n",
    "Min rating assigned equals 85.9, whereas max equals 90.6, hence the spread is pretty big (having in mind it starts with +/- 85).\n",
    "Standard deviation is 1.24, meaning the data points (particular ratings) are relatively close to the mean."
   ]
  },
  {
   "cell_type": "code",
   "execution_count": 13,
   "id": "002262f7",
   "metadata": {
    "execution": {
     "iopub.execute_input": "2024-03-11T14:18:58.251236Z",
     "iopub.status.busy": "2024-03-11T14:18:58.250843Z",
     "iopub.status.idle": "2024-03-11T14:18:58.262534Z",
     "shell.execute_reply": "2024-03-11T14:18:58.261361Z"
    },
    "papermill": {
     "duration": 0.026197,
     "end_time": "2024-03-11T14:18:58.264987",
     "exception": false,
     "start_time": "2024-03-11T14:18:58.238790",
     "status": "completed"
    },
    "tags": []
   },
   "outputs": [
    {
     "data": {
      "text/plain": [
       "count    19.000000\n",
       "mean     88.233026\n",
       "std       1.243610\n",
       "min      85.855422\n",
       "25%      87.323501\n",
       "50%      88.536235\n",
       "75%      88.975256\n",
       "max      90.562551\n",
       "Name: points, dtype: float64"
      ]
     },
     "execution_count": 13,
     "metadata": {},
     "output_type": "execute_result"
    }
   ],
   "source": [
    "reviewer_mean_ratings.describe()"
   ]
  },
  {
   "cell_type": "markdown",
   "id": "36a721b7",
   "metadata": {
    "papermill": {
     "duration": 0.011843,
     "end_time": "2024-03-11T14:18:58.287816",
     "exception": false,
     "start_time": "2024-03-11T14:18:58.275973",
     "status": "completed"
    },
    "tags": []
   },
   "source": [
    "## 6.\n",
    "What combination of countries and varieties are most common? Create a `Series` whose index is a `MultiIndex`of `{country, variety}` pairs. For example, a pinot noir produced in the US should map to `{\"US\", \"Pinot Noir\"}`. Sort the values in the `Series` in descending order based on wine count."
   ]
  },
  {
   "cell_type": "code",
   "execution_count": 14,
   "id": "f20b6d73",
   "metadata": {
    "execution": {
     "iopub.execute_input": "2024-03-11T14:18:58.311344Z",
     "iopub.status.busy": "2024-03-11T14:18:58.310911Z",
     "iopub.status.idle": "2024-03-11T14:18:58.376510Z",
     "shell.execute_reply": "2024-03-11T14:18:58.375362Z"
    },
    "papermill": {
     "duration": 0.080249,
     "end_time": "2024-03-11T14:18:58.378986",
     "exception": false,
     "start_time": "2024-03-11T14:18:58.298737",
     "status": "completed"
    },
    "tags": []
   },
   "outputs": [
    {
     "data": {
      "application/javascript": [
       "parent.postMessage({\"jupyterEvent\": \"custom.exercise_interaction\", \"data\": {\"outcomeType\": 1, \"valueTowardsCompletion\": 0.16666666666666666, \"interactionType\": 1, \"questionType\": 1, \"questionId\": \"6_GroupbyCountryVariety\", \"learnToolsVersion\": \"0.3.4\", \"failureMessage\": \"\", \"exceptionClass\": \"\", \"trace\": \"\"}}, \"*\")"
      ],
      "text/plain": [
       "<IPython.core.display.Javascript object>"
      ]
     },
     "metadata": {},
     "output_type": "display_data"
    },
    {
     "data": {
      "text/markdown": [
       "<span style=\"color:#33cc33\">Correct</span>"
      ],
      "text/plain": [
       "Correct"
      ]
     },
     "metadata": {},
     "output_type": "display_data"
    }
   ],
   "source": [
    "# 1 - group by criteria, 2 - aggregation, 3 - sorting\n",
    "country_variety_counts = reviews.groupby(['country', 'variety']).size().sort_values(ascending=False)\n",
    "\n",
    "# Check your answer\n",
    "q6.check()"
   ]
  },
  {
   "cell_type": "code",
   "execution_count": 15,
   "id": "089a91fe",
   "metadata": {
    "execution": {
     "iopub.execute_input": "2024-03-11T14:18:58.403677Z",
     "iopub.status.busy": "2024-03-11T14:18:58.403233Z",
     "iopub.status.idle": "2024-03-11T14:18:58.408012Z",
     "shell.execute_reply": "2024-03-11T14:18:58.406928Z"
    },
    "papermill": {
     "duration": 0.019859,
     "end_time": "2024-03-11T14:18:58.410398",
     "exception": false,
     "start_time": "2024-03-11T14:18:58.390539",
     "status": "completed"
    },
    "tags": []
   },
   "outputs": [],
   "source": [
    "#q6.hint()\n",
    "#q6.solution()"
   ]
  },
  {
   "cell_type": "markdown",
   "id": "b3ca600c",
   "metadata": {
    "papermill": {
     "duration": 0.011086,
     "end_time": "2024-03-11T14:18:58.433023",
     "exception": false,
     "start_time": "2024-03-11T14:18:58.421937",
     "status": "completed"
    },
    "tags": []
   },
   "source": [
    "# Keep going\n",
    "\n",
    "Move on to the [**data types and missing data**](https://www.kaggle.com/residentmario/data-types-and-missing-values)."
   ]
  },
  {
   "cell_type": "markdown",
   "id": "a839f893",
   "metadata": {
    "papermill": {
     "duration": 0.011308,
     "end_time": "2024-03-11T14:18:58.455716",
     "exception": false,
     "start_time": "2024-03-11T14:18:58.444408",
     "status": "completed"
    },
    "tags": []
   },
   "source": [
    "---\n",
    "\n",
    "\n",
    "\n",
    "\n",
    "*Have questions or comments? Visit the [course discussion forum](https://www.kaggle.com/learn/pandas/discussion) to chat with other learners.*"
   ]
  }
 ],
 "metadata": {
  "kaggle": {
   "accelerator": "none",
   "dataSources": [
    {
     "datasetId": 655,
     "sourceId": 1252,
     "sourceType": "datasetVersion"
    },
    {
     "datasetId": 2321,
     "sourceId": 3919,
     "sourceType": "datasetVersion"
    },
    {
     "datasetId": 2894,
     "sourceId": 4877,
     "sourceType": "datasetVersion"
    },
    {
     "datasetId": 3491,
     "sourceId": 5624,
     "sourceType": "datasetVersion"
    },
    {
     "datasetId": 1442,
     "sourceId": 8172,
     "sourceType": "datasetVersion"
    },
    {
     "datasetId": 9366,
     "sourceId": 13206,
     "sourceType": "datasetVersion"
    },
    {
     "datasetId": 179555,
     "sourceId": 403916,
     "sourceType": "datasetVersion"
    },
    {
     "datasetId": 4549,
     "sourceId": 466349,
     "sourceType": "datasetVersion"
    },
    {
     "datasetId": 2478,
     "sourceId": 1151655,
     "sourceType": "datasetVersion"
    },
    {
     "datasetId": 10128,
     "sourceId": 5438389,
     "sourceType": "datasetVersion"
    }
   ],
   "isGpuEnabled": false,
   "isInternetEnabled": false,
   "language": "python",
   "sourceType": "notebook"
  },
  "kernelspec": {
   "display_name": "Python 3",
   "language": "python",
   "name": "python3"
  },
  "language_info": {
   "codemirror_mode": {
    "name": "ipython",
    "version": 3
   },
   "file_extension": ".py",
   "mimetype": "text/x-python",
   "name": "python",
   "nbconvert_exporter": "python",
   "pygments_lexer": "ipython3",
   "version": "3.10.13"
  },
  "papermill": {
   "default_parameters": {},
   "duration": 8.922957,
   "end_time": "2024-03-11T14:18:58.987708",
   "environment_variables": {},
   "exception": null,
   "input_path": "__notebook__.ipynb",
   "output_path": "__notebook__.ipynb",
   "parameters": {},
   "start_time": "2024-03-11T14:18:50.064751",
   "version": "2.5.0"
  }
 },
 "nbformat": 4,
 "nbformat_minor": 5
}
