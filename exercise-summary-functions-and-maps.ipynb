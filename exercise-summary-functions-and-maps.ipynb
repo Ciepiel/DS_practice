{
 "cells": [
  {
   "cell_type": "markdown",
   "id": "0b609944",
   "metadata": {
    "papermill": {
     "duration": 0.008833,
     "end_time": "2024-03-11T13:02:26.308147",
     "exception": false,
     "start_time": "2024-03-11T13:02:26.299314",
     "status": "completed"
    },
    "tags": []
   },
   "source": [
    "**This notebook is an exercise in the [Pandas](https://www.kaggle.com/learn/pandas) course.  You can reference the tutorial at [this link](https://www.kaggle.com/residentmario/summary-functions-and-maps).**\n",
    "\n",
    "---\n"
   ]
  },
  {
   "cell_type": "markdown",
   "id": "1f8bb107",
   "metadata": {
    "papermill": {
     "duration": 0.008677,
     "end_time": "2024-03-11T13:02:26.325342",
     "exception": false,
     "start_time": "2024-03-11T13:02:26.316665",
     "status": "completed"
    },
    "tags": []
   },
   "source": [
    "# Introduction\n",
    "\n",
    "Now you are ready to get a deeper understanding of your data.\n",
    "\n",
    "Run the following cell to load your data and some utility functions (including code to check your answers)."
   ]
  },
  {
   "cell_type": "code",
   "execution_count": 1,
   "id": "f4b7b031",
   "metadata": {
    "execution": {
     "iopub.execute_input": "2024-03-11T13:02:26.345713Z",
     "iopub.status.busy": "2024-03-11T13:02:26.344482Z",
     "iopub.status.idle": "2024-03-11T13:02:36.577306Z",
     "shell.execute_reply": "2024-03-11T13:02:36.575952Z"
    },
    "papermill": {
     "duration": 10.246355,
     "end_time": "2024-03-11T13:02:36.580087",
     "exception": false,
     "start_time": "2024-03-11T13:02:26.333732",
     "status": "completed"
    },
    "tags": []
   },
   "outputs": [
    {
     "name": "stdout",
     "output_type": "stream",
     "text": [
      "Setup complete.\n"
     ]
    },
    {
     "data": {
      "text/html": [
       "<div>\n",
       "<style scoped>\n",
       "    .dataframe tbody tr th:only-of-type {\n",
       "        vertical-align: middle;\n",
       "    }\n",
       "\n",
       "    .dataframe tbody tr th {\n",
       "        vertical-align: top;\n",
       "    }\n",
       "\n",
       "    .dataframe thead th {\n",
       "        text-align: right;\n",
       "    }\n",
       "</style>\n",
       "<table border=\"1\" class=\"dataframe\">\n",
       "  <thead>\n",
       "    <tr style=\"text-align: right;\">\n",
       "      <th></th>\n",
       "      <th>country</th>\n",
       "      <th>description</th>\n",
       "      <th>designation</th>\n",
       "      <th>points</th>\n",
       "      <th>price</th>\n",
       "      <th>province</th>\n",
       "      <th>region_1</th>\n",
       "      <th>region_2</th>\n",
       "      <th>taster_name</th>\n",
       "      <th>taster_twitter_handle</th>\n",
       "      <th>title</th>\n",
       "      <th>variety</th>\n",
       "      <th>winery</th>\n",
       "    </tr>\n",
       "  </thead>\n",
       "  <tbody>\n",
       "    <tr>\n",
       "      <th>0</th>\n",
       "      <td>Italy</td>\n",
       "      <td>Aromas include tropical fruit, broom, brimston...</td>\n",
       "      <td>Vulkà Bianco</td>\n",
       "      <td>87</td>\n",
       "      <td>NaN</td>\n",
       "      <td>Sicily &amp; Sardinia</td>\n",
       "      <td>Etna</td>\n",
       "      <td>NaN</td>\n",
       "      <td>Kerin O’Keefe</td>\n",
       "      <td>@kerinokeefe</td>\n",
       "      <td>Nicosia 2013 Vulkà Bianco  (Etna)</td>\n",
       "      <td>White Blend</td>\n",
       "      <td>Nicosia</td>\n",
       "    </tr>\n",
       "    <tr>\n",
       "      <th>1</th>\n",
       "      <td>Portugal</td>\n",
       "      <td>This is ripe and fruity, a wine that is smooth...</td>\n",
       "      <td>Avidagos</td>\n",
       "      <td>87</td>\n",
       "      <td>15.0</td>\n",
       "      <td>Douro</td>\n",
       "      <td>NaN</td>\n",
       "      <td>NaN</td>\n",
       "      <td>Roger Voss</td>\n",
       "      <td>@vossroger</td>\n",
       "      <td>Quinta dos Avidagos 2011 Avidagos Red (Douro)</td>\n",
       "      <td>Portuguese Red</td>\n",
       "      <td>Quinta dos Avidagos</td>\n",
       "    </tr>\n",
       "    <tr>\n",
       "      <th>2</th>\n",
       "      <td>US</td>\n",
       "      <td>Tart and snappy, the flavors of lime flesh and...</td>\n",
       "      <td>NaN</td>\n",
       "      <td>87</td>\n",
       "      <td>14.0</td>\n",
       "      <td>Oregon</td>\n",
       "      <td>Willamette Valley</td>\n",
       "      <td>Willamette Valley</td>\n",
       "      <td>Paul Gregutt</td>\n",
       "      <td>@paulgwine</td>\n",
       "      <td>Rainstorm 2013 Pinot Gris (Willamette Valley)</td>\n",
       "      <td>Pinot Gris</td>\n",
       "      <td>Rainstorm</td>\n",
       "    </tr>\n",
       "    <tr>\n",
       "      <th>3</th>\n",
       "      <td>US</td>\n",
       "      <td>Pineapple rind, lemon pith and orange blossom ...</td>\n",
       "      <td>Reserve Late Harvest</td>\n",
       "      <td>87</td>\n",
       "      <td>13.0</td>\n",
       "      <td>Michigan</td>\n",
       "      <td>Lake Michigan Shore</td>\n",
       "      <td>NaN</td>\n",
       "      <td>Alexander Peartree</td>\n",
       "      <td>NaN</td>\n",
       "      <td>St. Julian 2013 Reserve Late Harvest Riesling ...</td>\n",
       "      <td>Riesling</td>\n",
       "      <td>St. Julian</td>\n",
       "    </tr>\n",
       "    <tr>\n",
       "      <th>4</th>\n",
       "      <td>US</td>\n",
       "      <td>Much like the regular bottling from 2012, this...</td>\n",
       "      <td>Vintner's Reserve Wild Child Block</td>\n",
       "      <td>87</td>\n",
       "      <td>65.0</td>\n",
       "      <td>Oregon</td>\n",
       "      <td>Willamette Valley</td>\n",
       "      <td>Willamette Valley</td>\n",
       "      <td>Paul Gregutt</td>\n",
       "      <td>@paulgwine</td>\n",
       "      <td>Sweet Cheeks 2012 Vintner's Reserve Wild Child...</td>\n",
       "      <td>Pinot Noir</td>\n",
       "      <td>Sweet Cheeks</td>\n",
       "    </tr>\n",
       "  </tbody>\n",
       "</table>\n",
       "</div>"
      ],
      "text/plain": [
       "    country                                        description  \\\n",
       "0     Italy  Aromas include tropical fruit, broom, brimston...   \n",
       "1  Portugal  This is ripe and fruity, a wine that is smooth...   \n",
       "2        US  Tart and snappy, the flavors of lime flesh and...   \n",
       "3        US  Pineapple rind, lemon pith and orange blossom ...   \n",
       "4        US  Much like the regular bottling from 2012, this...   \n",
       "\n",
       "                          designation  points  price           province  \\\n",
       "0                        Vulkà Bianco      87    NaN  Sicily & Sardinia   \n",
       "1                            Avidagos      87   15.0              Douro   \n",
       "2                                 NaN      87   14.0             Oregon   \n",
       "3                Reserve Late Harvest      87   13.0           Michigan   \n",
       "4  Vintner's Reserve Wild Child Block      87   65.0             Oregon   \n",
       "\n",
       "              region_1           region_2         taster_name  \\\n",
       "0                 Etna                NaN       Kerin O’Keefe   \n",
       "1                  NaN                NaN          Roger Voss   \n",
       "2    Willamette Valley  Willamette Valley        Paul Gregutt   \n",
       "3  Lake Michigan Shore                NaN  Alexander Peartree   \n",
       "4    Willamette Valley  Willamette Valley        Paul Gregutt   \n",
       "\n",
       "  taster_twitter_handle                                              title  \\\n",
       "0          @kerinokeefe                  Nicosia 2013 Vulkà Bianco  (Etna)   \n",
       "1            @vossroger      Quinta dos Avidagos 2011 Avidagos Red (Douro)   \n",
       "2           @paulgwine       Rainstorm 2013 Pinot Gris (Willamette Valley)   \n",
       "3                   NaN  St. Julian 2013 Reserve Late Harvest Riesling ...   \n",
       "4           @paulgwine   Sweet Cheeks 2012 Vintner's Reserve Wild Child...   \n",
       "\n",
       "          variety               winery  \n",
       "0     White Blend              Nicosia  \n",
       "1  Portuguese Red  Quinta dos Avidagos  \n",
       "2      Pinot Gris            Rainstorm  \n",
       "3        Riesling           St. Julian  \n",
       "4      Pinot Noir         Sweet Cheeks  "
      ]
     },
     "execution_count": 1,
     "metadata": {},
     "output_type": "execute_result"
    }
   ],
   "source": [
    "import pandas as pd\n",
    "pd.set_option(\"display.max_rows\", 5)\n",
    "reviews = pd.read_csv(\"../input/wine-reviews/winemag-data-130k-v2.csv\", index_col=0)\n",
    "\n",
    "from learntools.core import binder; binder.bind(globals())\n",
    "from learntools.pandas.summary_functions_and_maps import *\n",
    "print(\"Setup complete.\")\n",
    "\n",
    "reviews.head()"
   ]
  },
  {
   "cell_type": "markdown",
   "id": "173321ed",
   "metadata": {
    "papermill": {
     "duration": 0.008453,
     "end_time": "2024-03-11T13:02:36.597410",
     "exception": false,
     "start_time": "2024-03-11T13:02:36.588957",
     "status": "completed"
    },
    "tags": []
   },
   "source": [
    "# Exercises"
   ]
  },
  {
   "cell_type": "markdown",
   "id": "7820429a",
   "metadata": {
    "papermill": {
     "duration": 0.008479,
     "end_time": "2024-03-11T13:02:36.614771",
     "exception": false,
     "start_time": "2024-03-11T13:02:36.606292",
     "status": "completed"
    },
    "tags": []
   },
   "source": [
    "## 1.\n",
    "\n",
    "What is the median of the `points` column in the `reviews` DataFrame?"
   ]
  },
  {
   "cell_type": "code",
   "execution_count": 2,
   "id": "2323af52",
   "metadata": {
    "execution": {
     "iopub.execute_input": "2024-03-11T13:02:36.634888Z",
     "iopub.status.busy": "2024-03-11T13:02:36.634477Z",
     "iopub.status.idle": "2024-03-11T13:02:36.645476Z",
     "shell.execute_reply": "2024-03-11T13:02:36.644298Z"
    },
    "papermill": {
     "duration": 0.024256,
     "end_time": "2024-03-11T13:02:36.647917",
     "exception": false,
     "start_time": "2024-03-11T13:02:36.623661",
     "status": "completed"
    },
    "tags": []
   },
   "outputs": [
    {
     "data": {
      "application/javascript": [
       "parent.postMessage({\"jupyterEvent\": \"custom.exercise_interaction\", \"data\": {\"outcomeType\": 1, \"valueTowardsCompletion\": 0.14285714285714285, \"interactionType\": 1, \"questionType\": 1, \"questionId\": \"1_MedianPoints\", \"learnToolsVersion\": \"0.3.4\", \"failureMessage\": \"\", \"exceptionClass\": \"\", \"trace\": \"\"}}, \"*\")"
      ],
      "text/plain": [
       "<IPython.core.display.Javascript object>"
      ]
     },
     "metadata": {},
     "output_type": "display_data"
    },
    {
     "data": {
      "text/markdown": [
       "<span style=\"color:#33cc33\">Correct</span>"
      ],
      "text/plain": [
       "Correct"
      ]
     },
     "metadata": {},
     "output_type": "display_data"
    }
   ],
   "source": [
    "median_points = reviews.points.median()\n",
    "\n",
    "# Check your answer\n",
    "q1.check()"
   ]
  },
  {
   "cell_type": "code",
   "execution_count": 3,
   "id": "47d39a82",
   "metadata": {
    "execution": {
     "iopub.execute_input": "2024-03-11T13:02:36.668337Z",
     "iopub.status.busy": "2024-03-11T13:02:36.667898Z",
     "iopub.status.idle": "2024-03-11T13:02:36.672953Z",
     "shell.execute_reply": "2024-03-11T13:02:36.671464Z"
    },
    "papermill": {
     "duration": 0.018191,
     "end_time": "2024-03-11T13:02:36.675324",
     "exception": false,
     "start_time": "2024-03-11T13:02:36.657133",
     "status": "completed"
    },
    "tags": []
   },
   "outputs": [],
   "source": [
    "#q1.hint()\n",
    "#q1.solution()"
   ]
  },
  {
   "cell_type": "markdown",
   "id": "d63eea08",
   "metadata": {
    "papermill": {
     "duration": 0.008939,
     "end_time": "2024-03-11T13:02:36.693614",
     "exception": false,
     "start_time": "2024-03-11T13:02:36.684675",
     "status": "completed"
    },
    "tags": []
   },
   "source": [
    "## 2. \n",
    "What countries are represented in the dataset? (Your answer should not include any duplicates.)"
   ]
  },
  {
   "cell_type": "code",
   "execution_count": 4,
   "id": "c6ee4256",
   "metadata": {
    "execution": {
     "iopub.execute_input": "2024-03-11T13:02:36.714974Z",
     "iopub.status.busy": "2024-03-11T13:02:36.714531Z",
     "iopub.status.idle": "2024-03-11T13:02:36.733083Z",
     "shell.execute_reply": "2024-03-11T13:02:36.731971Z"
    },
    "papermill": {
     "duration": 0.032676,
     "end_time": "2024-03-11T13:02:36.735496",
     "exception": false,
     "start_time": "2024-03-11T13:02:36.702820",
     "status": "completed"
    },
    "tags": []
   },
   "outputs": [
    {
     "data": {
      "application/javascript": [
       "parent.postMessage({\"jupyterEvent\": \"custom.exercise_interaction\", \"data\": {\"outcomeType\": 1, \"valueTowardsCompletion\": 0.14285714285714285, \"interactionType\": 1, \"questionType\": 2, \"questionId\": \"2_UniqueCountries\", \"learnToolsVersion\": \"0.3.4\", \"failureMessage\": \"\", \"exceptionClass\": \"\", \"trace\": \"\"}}, \"*\")"
      ],
      "text/plain": [
       "<IPython.core.display.Javascript object>"
      ]
     },
     "metadata": {},
     "output_type": "display_data"
    },
    {
     "data": {
      "text/markdown": [
       "<span style=\"color:#33cc33\">Correct</span>"
      ],
      "text/plain": [
       "Correct"
      ]
     },
     "metadata": {},
     "output_type": "display_data"
    }
   ],
   "source": [
    "countries = reviews.country.unique()\n",
    "\n",
    "# Check your answer\n",
    "q2.check()"
   ]
  },
  {
   "cell_type": "code",
   "execution_count": 5,
   "id": "b8fdffe4",
   "metadata": {
    "execution": {
     "iopub.execute_input": "2024-03-11T13:02:36.757389Z",
     "iopub.status.busy": "2024-03-11T13:02:36.756956Z",
     "iopub.status.idle": "2024-03-11T13:02:36.761477Z",
     "shell.execute_reply": "2024-03-11T13:02:36.760195Z"
    },
    "papermill": {
     "duration": 0.018511,
     "end_time": "2024-03-11T13:02:36.763929",
     "exception": false,
     "start_time": "2024-03-11T13:02:36.745418",
     "status": "completed"
    },
    "tags": []
   },
   "outputs": [],
   "source": [
    "#q2.hint()\n",
    "#q2.solution()"
   ]
  },
  {
   "cell_type": "markdown",
   "id": "0ebbdd0b",
   "metadata": {
    "papermill": {
     "duration": 0.009465,
     "end_time": "2024-03-11T13:02:36.783367",
     "exception": false,
     "start_time": "2024-03-11T13:02:36.773902",
     "status": "completed"
    },
    "tags": []
   },
   "source": [
    "## 3.\n",
    "How often does each country appear in the dataset? Create a Series `reviews_per_country` mapping countries to the count of reviews of wines from that country."
   ]
  },
  {
   "cell_type": "code",
   "execution_count": 6,
   "id": "2a2c7338",
   "metadata": {
    "execution": {
     "iopub.execute_input": "2024-03-11T13:02:36.804679Z",
     "iopub.status.busy": "2024-03-11T13:02:36.804239Z",
     "iopub.status.idle": "2024-03-11T13:02:36.836472Z",
     "shell.execute_reply": "2024-03-11T13:02:36.835348Z"
    },
    "papermill": {
     "duration": 0.046,
     "end_time": "2024-03-11T13:02:36.839148",
     "exception": false,
     "start_time": "2024-03-11T13:02:36.793148",
     "status": "completed"
    },
    "tags": []
   },
   "outputs": [
    {
     "data": {
      "application/javascript": [
       "parent.postMessage({\"jupyterEvent\": \"custom.exercise_interaction\", \"data\": {\"outcomeType\": 1, \"valueTowardsCompletion\": 0.14285714285714285, \"interactionType\": 1, \"questionType\": 1, \"questionId\": \"3_ReviewsPerCountry\", \"learnToolsVersion\": \"0.3.4\", \"failureMessage\": \"\", \"exceptionClass\": \"\", \"trace\": \"\"}}, \"*\")"
      ],
      "text/plain": [
       "<IPython.core.display.Javascript object>"
      ]
     },
     "metadata": {},
     "output_type": "display_data"
    },
    {
     "data": {
      "text/markdown": [
       "<span style=\"color:#33cc33\">Correct</span>"
      ],
      "text/plain": [
       "Correct"
      ]
     },
     "metadata": {},
     "output_type": "display_data"
    }
   ],
   "source": [
    "reviews_per_country = reviews.country.value_counts()\n",
    "\n",
    "# Check your answer\n",
    "q3.check()"
   ]
  },
  {
   "cell_type": "code",
   "execution_count": 7,
   "id": "0b8cd917",
   "metadata": {
    "execution": {
     "iopub.execute_input": "2024-03-11T13:02:36.861353Z",
     "iopub.status.busy": "2024-03-11T13:02:36.860674Z",
     "iopub.status.idle": "2024-03-11T13:02:36.865083Z",
     "shell.execute_reply": "2024-03-11T13:02:36.864220Z"
    },
    "papermill": {
     "duration": 0.018533,
     "end_time": "2024-03-11T13:02:36.867516",
     "exception": false,
     "start_time": "2024-03-11T13:02:36.848983",
     "status": "completed"
    },
    "tags": []
   },
   "outputs": [],
   "source": [
    "#q3.hint()\n",
    "#q3.solution()"
   ]
  },
  {
   "cell_type": "markdown",
   "id": "a4324b2a",
   "metadata": {
    "papermill": {
     "duration": 0.009751,
     "end_time": "2024-03-11T13:02:36.887310",
     "exception": false,
     "start_time": "2024-03-11T13:02:36.877559",
     "status": "completed"
    },
    "tags": []
   },
   "source": [
    "## 4.\n",
    "Create variable `centered_price` containing a version of the `price` column with the mean price subtracted.\n",
    "\n",
    "(Note: this 'centering' transformation is a common preprocessing step before applying various machine learning algorithms.) "
   ]
  },
  {
   "cell_type": "code",
   "execution_count": 8,
   "id": "f47b84e0",
   "metadata": {
    "execution": {
     "iopub.execute_input": "2024-03-11T13:02:36.909688Z",
     "iopub.status.busy": "2024-03-11T13:02:36.909025Z",
     "iopub.status.idle": "2024-03-11T13:02:36.920762Z",
     "shell.execute_reply": "2024-03-11T13:02:36.919562Z"
    },
    "papermill": {
     "duration": 0.026104,
     "end_time": "2024-03-11T13:02:36.923395",
     "exception": false,
     "start_time": "2024-03-11T13:02:36.897291",
     "status": "completed"
    },
    "tags": []
   },
   "outputs": [
    {
     "data": {
      "application/javascript": [
       "parent.postMessage({\"jupyterEvent\": \"custom.exercise_interaction\", \"data\": {\"outcomeType\": 1, \"valueTowardsCompletion\": 0.14285714285714285, \"interactionType\": 1, \"questionType\": 1, \"questionId\": \"4_CenteredPrice\", \"learnToolsVersion\": \"0.3.4\", \"failureMessage\": \"\", \"exceptionClass\": \"\", \"trace\": \"\"}}, \"*\")"
      ],
      "text/plain": [
       "<IPython.core.display.Javascript object>"
      ]
     },
     "metadata": {},
     "output_type": "display_data"
    },
    {
     "data": {
      "text/markdown": [
       "<span style=\"color:#33cc33\">Correct</span>"
      ],
      "text/plain": [
       "Correct"
      ]
     },
     "metadata": {},
     "output_type": "display_data"
    }
   ],
   "source": [
    "centered_price = reviews.price - reviews.price.mean()\n",
    "\n",
    "# Check your answer\n",
    "q4.check()"
   ]
  },
  {
   "cell_type": "code",
   "execution_count": 9,
   "id": "88e019d4",
   "metadata": {
    "execution": {
     "iopub.execute_input": "2024-03-11T13:02:36.946635Z",
     "iopub.status.busy": "2024-03-11T13:02:36.945429Z",
     "iopub.status.idle": "2024-03-11T13:02:36.950765Z",
     "shell.execute_reply": "2024-03-11T13:02:36.949588Z"
    },
    "papermill": {
     "duration": 0.01957,
     "end_time": "2024-03-11T13:02:36.953318",
     "exception": false,
     "start_time": "2024-03-11T13:02:36.933748",
     "status": "completed"
    },
    "tags": []
   },
   "outputs": [],
   "source": [
    "#q4.hint()\n",
    "#q4.solution()"
   ]
  },
  {
   "cell_type": "markdown",
   "id": "1228b9c6",
   "metadata": {
    "papermill": {
     "duration": 0.010201,
     "end_time": "2024-03-11T13:02:36.974274",
     "exception": false,
     "start_time": "2024-03-11T13:02:36.964073",
     "status": "completed"
    },
    "tags": []
   },
   "source": [
    "## 5.\n",
    "I'm an economical wine buyer. Which wine is the \"best bargain\"? Create a variable `bargain_wine` with the title of the wine with the highest points-to-price ratio in the dataset."
   ]
  },
  {
   "cell_type": "code",
   "execution_count": 10,
   "id": "3c3a2a96",
   "metadata": {
    "execution": {
     "iopub.execute_input": "2024-03-11T13:02:36.997403Z",
     "iopub.status.busy": "2024-03-11T13:02:36.997009Z",
     "iopub.status.idle": "2024-03-11T13:02:37.011541Z",
     "shell.execute_reply": "2024-03-11T13:02:37.010621Z"
    },
    "papermill": {
     "duration": 0.028946,
     "end_time": "2024-03-11T13:02:37.013854",
     "exception": false,
     "start_time": "2024-03-11T13:02:36.984908",
     "status": "completed"
    },
    "tags": []
   },
   "outputs": [
    {
     "data": {
      "application/javascript": [
       "parent.postMessage({\"jupyterEvent\": \"custom.exercise_interaction\", \"data\": {\"outcomeType\": 1, \"valueTowardsCompletion\": 0.14285714285714285, \"interactionType\": 1, \"questionType\": 2, \"questionId\": \"5_BargainWine\", \"learnToolsVersion\": \"0.3.4\", \"failureMessage\": \"\", \"exceptionClass\": \"\", \"trace\": \"\"}}, \"*\")"
      ],
      "text/plain": [
       "<IPython.core.display.Javascript object>"
      ]
     },
     "metadata": {},
     "output_type": "display_data"
    },
    {
     "data": {
      "text/markdown": [
       "<span style=\"color:#33cc33\">Correct</span>"
      ],
      "text/plain": [
       "Correct"
      ]
     },
     "metadata": {},
     "output_type": "display_data"
    }
   ],
   "source": [
    "bargain_id = (reviews.points / reviews.price).idxmax()\n",
    "bargain_wine = reviews.loc[bargain_id, 'title']\n",
    "\n",
    "# Check your answer\n",
    "q5.check()"
   ]
  },
  {
   "cell_type": "code",
   "execution_count": 11,
   "id": "feb7ad59",
   "metadata": {
    "execution": {
     "iopub.execute_input": "2024-03-11T13:02:37.038439Z",
     "iopub.status.busy": "2024-03-11T13:02:37.037660Z",
     "iopub.status.idle": "2024-03-11T13:02:37.043041Z",
     "shell.execute_reply": "2024-03-11T13:02:37.041693Z"
    },
    "papermill": {
     "duration": 0.020634,
     "end_time": "2024-03-11T13:02:37.045562",
     "exception": false,
     "start_time": "2024-03-11T13:02:37.024928",
     "status": "completed"
    },
    "tags": []
   },
   "outputs": [],
   "source": [
    "#q5.hint()\n",
    "#q5.solution()"
   ]
  },
  {
   "cell_type": "markdown",
   "id": "6f59d25c",
   "metadata": {
    "papermill": {
     "duration": 0.010476,
     "end_time": "2024-03-11T13:02:37.066762",
     "exception": false,
     "start_time": "2024-03-11T13:02:37.056286",
     "status": "completed"
    },
    "tags": []
   },
   "source": [
    "## 6.\n",
    "There are only so many words you can use when describing a bottle of wine. Is a wine more likely to be \"tropical\" or \"fruity\"? Create a Series `descriptor_counts` counting how many times each of these two words appears in the `description` column in the dataset. (For simplicity, let's ignore the capitalized versions of these words.)"
   ]
  },
  {
   "cell_type": "code",
   "execution_count": 12,
   "id": "43e54507",
   "metadata": {
    "execution": {
     "iopub.execute_input": "2024-03-11T13:02:37.089968Z",
     "iopub.status.busy": "2024-03-11T13:02:37.089533Z",
     "iopub.status.idle": "2024-03-11T13:02:37.274676Z",
     "shell.execute_reply": "2024-03-11T13:02:37.273236Z"
    },
    "papermill": {
     "duration": 0.200372,
     "end_time": "2024-03-11T13:02:37.277794",
     "exception": false,
     "start_time": "2024-03-11T13:02:37.077422",
     "status": "completed"
    },
    "tags": []
   },
   "outputs": [
    {
     "data": {
      "application/javascript": [
       "parent.postMessage({\"jupyterEvent\": \"custom.exercise_interaction\", \"data\": {\"outcomeType\": 1, \"valueTowardsCompletion\": 0.14285714285714285, \"interactionType\": 1, \"questionType\": 1, \"questionId\": \"6_DescriptorCounts\", \"learnToolsVersion\": \"0.3.4\", \"failureMessage\": \"\", \"exceptionClass\": \"\", \"trace\": \"\"}}, \"*\")"
      ],
      "text/plain": [
       "<IPython.core.display.Javascript object>"
      ]
     },
     "metadata": {},
     "output_type": "display_data"
    },
    {
     "data": {
      "text/markdown": [
       "<span style=\"color:#33cc33\">Correct</span>"
      ],
      "text/plain": [
       "Correct"
      ]
     },
     "metadata": {},
     "output_type": "display_data"
    }
   ],
   "source": [
    "# 'map' to check description for each string and summarize all appearances\n",
    "# create a series indexed by given strings to get the counts\n",
    "n_trop = reviews.description.map(lambda description: \"tropical\" in description).sum()\n",
    "n_fru = reviews.description.map(lambda description: \"fruity\" in description).sum()\n",
    "descriptor_counts = pd.Series([n_trop, n_fru], index=['tropical', 'fruity'])\n",
    "\n",
    "# Check your answer\n",
    "q6.check()"
   ]
  },
  {
   "cell_type": "code",
   "execution_count": 13,
   "id": "86d031ac",
   "metadata": {
    "execution": {
     "iopub.execute_input": "2024-03-11T13:02:37.302042Z",
     "iopub.status.busy": "2024-03-11T13:02:37.301616Z",
     "iopub.status.idle": "2024-03-11T13:02:37.306832Z",
     "shell.execute_reply": "2024-03-11T13:02:37.305491Z"
    },
    "papermill": {
     "duration": 0.02086,
     "end_time": "2024-03-11T13:02:37.309976",
     "exception": false,
     "start_time": "2024-03-11T13:02:37.289116",
     "status": "completed"
    },
    "tags": []
   },
   "outputs": [],
   "source": [
    "#q6.hint()\n",
    "#q6.solution()"
   ]
  },
  {
   "cell_type": "markdown",
   "id": "33ee4417",
   "metadata": {
    "papermill": {
     "duration": 0.010961,
     "end_time": "2024-03-11T13:02:37.332936",
     "exception": false,
     "start_time": "2024-03-11T13:02:37.321975",
     "status": "completed"
    },
    "tags": []
   },
   "source": [
    "## 7.\n",
    "We'd like to host these wine reviews on our website, but a rating system ranging from 80 to 100 points is too hard to understand - we'd like to translate them into simple star ratings. A score of 95 or higher counts as 3 stars, a score of at least 85 but less than 95 is 2 stars. Any other score is 1 star.\n",
    "\n",
    "Also, the Canadian Vintners Association bought a lot of ads on the site, so any wines from Canada should automatically get 3 stars, regardless of points.\n",
    "\n",
    "Create a series `star_ratings` with the number of stars corresponding to each review in the dataset."
   ]
  },
  {
   "cell_type": "code",
   "execution_count": 14,
   "id": "00568a80",
   "metadata": {
    "execution": {
     "iopub.execute_input": "2024-03-11T13:02:37.357837Z",
     "iopub.status.busy": "2024-03-11T13:02:37.357437Z",
     "iopub.status.idle": "2024-03-11T13:02:42.647224Z",
     "shell.execute_reply": "2024-03-11T13:02:42.645834Z"
    },
    "papermill": {
     "duration": 5.305671,
     "end_time": "2024-03-11T13:02:42.650248",
     "exception": false,
     "start_time": "2024-03-11T13:02:37.344577",
     "status": "completed"
    },
    "tags": []
   },
   "outputs": [
    {
     "data": {
      "application/javascript": [
       "parent.postMessage({\"jupyterEvent\": \"custom.exercise_interaction\", \"data\": {\"outcomeType\": 1, \"valueTowardsCompletion\": 0.14285714285714285, \"interactionType\": 1, \"questionType\": 1, \"questionId\": \"7_StarRatings\", \"learnToolsVersion\": \"0.3.4\", \"failureMessage\": \"\", \"exceptionClass\": \"\", \"trace\": \"\"}}, \"*\")"
      ],
      "text/plain": [
       "<IPython.core.display.Javascript object>"
      ]
     },
     "metadata": {},
     "output_type": "display_data"
    },
    {
     "data": {
      "text/markdown": [
       "<span style=\"color:#33cc33\">Correct</span>"
      ],
      "text/plain": [
       "Correct"
      ]
     },
     "metadata": {},
     "output_type": "display_data"
    }
   ],
   "source": [
    "def stars(row):\n",
    "    if row.country == 'Canada':\n",
    "        return 3\n",
    "    elif row.points >= 95:\n",
    "        return 3\n",
    "    elif row.points >= 85:\n",
    "        return 2\n",
    "    else:\n",
    "        return 1\n",
    "    \n",
    "star_ratings = reviews.apply(stars, axis='columns')\n",
    "\n",
    "# Check your answer\n",
    "q7.check()"
   ]
  },
  {
   "cell_type": "code",
   "execution_count": 15,
   "id": "570bff28",
   "metadata": {
    "execution": {
     "iopub.execute_input": "2024-03-11T13:02:42.675852Z",
     "iopub.status.busy": "2024-03-11T13:02:42.675456Z",
     "iopub.status.idle": "2024-03-11T13:02:42.681048Z",
     "shell.execute_reply": "2024-03-11T13:02:42.679912Z"
    },
    "papermill": {
     "duration": 0.021765,
     "end_time": "2024-03-11T13:02:42.683749",
     "exception": false,
     "start_time": "2024-03-11T13:02:42.661984",
     "status": "completed"
    },
    "tags": []
   },
   "outputs": [],
   "source": [
    "#q7.hint()\n",
    "#q7.solution()"
   ]
  },
  {
   "cell_type": "markdown",
   "id": "3d440726",
   "metadata": {
    "papermill": {
     "duration": 0.011216,
     "end_time": "2024-03-11T13:02:42.706488",
     "exception": false,
     "start_time": "2024-03-11T13:02:42.695272",
     "status": "completed"
    },
    "tags": []
   },
   "source": [
    "# Keep going\n",
    "Continue to **[grouping and sorting](https://www.kaggle.com/residentmario/grouping-and-sorting)**."
   ]
  },
  {
   "cell_type": "markdown",
   "id": "d3c4a08f",
   "metadata": {
    "papermill": {
     "duration": 0.011243,
     "end_time": "2024-03-11T13:02:42.729539",
     "exception": false,
     "start_time": "2024-03-11T13:02:42.718296",
     "status": "completed"
    },
    "tags": []
   },
   "source": [
    "---\n",
    "\n",
    "\n",
    "\n",
    "\n",
    "*Have questions or comments? Visit the [course discussion forum](https://www.kaggle.com/learn/pandas/discussion) to chat with other learners.*"
   ]
  }
 ],
 "metadata": {
  "kaggle": {
   "accelerator": "none",
   "dataSources": [
    {
     "datasetId": 655,
     "sourceId": 1252,
     "sourceType": "datasetVersion"
    },
    {
     "datasetId": 2321,
     "sourceId": 3919,
     "sourceType": "datasetVersion"
    },
    {
     "datasetId": 2894,
     "sourceId": 4877,
     "sourceType": "datasetVersion"
    },
    {
     "datasetId": 3491,
     "sourceId": 5624,
     "sourceType": "datasetVersion"
    },
    {
     "datasetId": 1442,
     "sourceId": 8172,
     "sourceType": "datasetVersion"
    },
    {
     "datasetId": 9366,
     "sourceId": 13206,
     "sourceType": "datasetVersion"
    },
    {
     "datasetId": 179555,
     "sourceId": 403916,
     "sourceType": "datasetVersion"
    },
    {
     "datasetId": 4549,
     "sourceId": 466349,
     "sourceType": "datasetVersion"
    },
    {
     "datasetId": 2478,
     "sourceId": 1151655,
     "sourceType": "datasetVersion"
    },
    {
     "datasetId": 10128,
     "sourceId": 5438389,
     "sourceType": "datasetVersion"
    }
   ],
   "isGpuEnabled": false,
   "isInternetEnabled": false,
   "language": "python",
   "sourceType": "notebook"
  },
  "kernelspec": {
   "display_name": "Python 3",
   "language": "python",
   "name": "python3"
  },
  "language_info": {
   "codemirror_mode": {
    "name": "ipython",
    "version": 3
   },
   "file_extension": ".py",
   "mimetype": "text/x-python",
   "name": "python",
   "nbconvert_exporter": "python",
   "pygments_lexer": "ipython3",
   "version": "3.10.13"
  },
  "papermill": {
   "default_parameters": {},
   "duration": 20.695966,
   "end_time": "2024-03-11T13:02:43.363134",
   "environment_variables": {},
   "exception": null,
   "input_path": "__notebook__.ipynb",
   "output_path": "__notebook__.ipynb",
   "parameters": {},
   "start_time": "2024-03-11T13:02:22.667168",
   "version": "2.5.0"
  }
 },
 "nbformat": 4,
 "nbformat_minor": 5
}
