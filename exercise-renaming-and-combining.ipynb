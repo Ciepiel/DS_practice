{
 "cells": [
  {
   "cell_type": "markdown",
   "id": "a7496167",
   "metadata": {
    "papermill": {
     "duration": 0.008432,
     "end_time": "2024-03-12T11:31:26.177787",
     "exception": false,
     "start_time": "2024-03-12T11:31:26.169355",
     "status": "completed"
    },
    "tags": []
   },
   "source": [
    "**This notebook is an exercise in the [Pandas](https://www.kaggle.com/learn/pandas) course.  You can reference the tutorial at [this link](https://www.kaggle.com/residentmario/renaming-and-combining).**\n",
    "\n",
    "---\n"
   ]
  },
  {
   "cell_type": "markdown",
   "id": "d0cba098",
   "metadata": {
    "papermill": {
     "duration": 0.007444,
     "end_time": "2024-03-12T11:31:26.193592",
     "exception": false,
     "start_time": "2024-03-12T11:31:26.186148",
     "status": "completed"
    },
    "tags": []
   },
   "source": [
    "# Introduction\n",
    "\n",
    "Run the following cell to load your data and some utility functions."
   ]
  },
  {
   "cell_type": "code",
   "execution_count": 1,
   "id": "018c04f0",
   "metadata": {
    "execution": {
     "iopub.execute_input": "2024-03-12T11:31:26.212104Z",
     "iopub.status.busy": "2024-03-12T11:31:26.211646Z",
     "iopub.status.idle": "2024-03-12T11:31:32.574678Z",
     "shell.execute_reply": "2024-03-12T11:31:32.573247Z"
    },
    "papermill": {
     "duration": 6.376365,
     "end_time": "2024-03-12T11:31:32.577804",
     "exception": false,
     "start_time": "2024-03-12T11:31:26.201439",
     "status": "completed"
    },
    "tags": []
   },
   "outputs": [
    {
     "name": "stdout",
     "output_type": "stream",
     "text": [
      "Setup complete.\n"
     ]
    }
   ],
   "source": [
    "import pandas as pd\n",
    "\n",
    "reviews = pd.read_csv(\"../input/wine-reviews/winemag-data-130k-v2.csv\", index_col=0)\n",
    "\n",
    "from learntools.core import binder; binder.bind(globals())\n",
    "from learntools.pandas.renaming_and_combining import *\n",
    "print(\"Setup complete.\")"
   ]
  },
  {
   "cell_type": "markdown",
   "id": "99adec5a",
   "metadata": {
    "papermill": {
     "duration": 0.007531,
     "end_time": "2024-03-12T11:31:32.593454",
     "exception": false,
     "start_time": "2024-03-12T11:31:32.585923",
     "status": "completed"
    },
    "tags": []
   },
   "source": [
    "# Exercises\n",
    "\n",
    "View the first several lines of your data by running the cell below:"
   ]
  },
  {
   "cell_type": "markdown",
   "id": "3320552f",
   "metadata": {
    "papermill": {
     "duration": 0.007564,
     "end_time": "2024-03-12T11:31:32.609125",
     "exception": false,
     "start_time": "2024-03-12T11:31:32.601561",
     "status": "completed"
    },
    "tags": []
   },
   "source": [
    "__Three core methods for combining DataFrames and Series:__\n",
    "* concat() - appending one below the other\n",
    "* join() - combining based on a common index (just like JOINs in SQL)\n",
    "* merge()"
   ]
  },
  {
   "cell_type": "code",
   "execution_count": 2,
   "id": "27c8ceab",
   "metadata": {
    "execution": {
     "iopub.execute_input": "2024-03-12T11:31:32.626809Z",
     "iopub.status.busy": "2024-03-12T11:31:32.626328Z",
     "iopub.status.idle": "2024-03-12T11:31:32.655036Z",
     "shell.execute_reply": "2024-03-12T11:31:32.653775Z"
    },
    "papermill": {
     "duration": 0.041114,
     "end_time": "2024-03-12T11:31:32.658101",
     "exception": false,
     "start_time": "2024-03-12T11:31:32.616987",
     "status": "completed"
    },
    "tags": []
   },
   "outputs": [
    {
     "data": {
      "text/html": [
       "<div>\n",
       "<style scoped>\n",
       "    .dataframe tbody tr th:only-of-type {\n",
       "        vertical-align: middle;\n",
       "    }\n",
       "\n",
       "    .dataframe tbody tr th {\n",
       "        vertical-align: top;\n",
       "    }\n",
       "\n",
       "    .dataframe thead th {\n",
       "        text-align: right;\n",
       "    }\n",
       "</style>\n",
       "<table border=\"1\" class=\"dataframe\">\n",
       "  <thead>\n",
       "    <tr style=\"text-align: right;\">\n",
       "      <th></th>\n",
       "      <th>country</th>\n",
       "      <th>description</th>\n",
       "      <th>designation</th>\n",
       "      <th>points</th>\n",
       "      <th>price</th>\n",
       "      <th>province</th>\n",
       "      <th>region_1</th>\n",
       "      <th>region_2</th>\n",
       "      <th>taster_name</th>\n",
       "      <th>taster_twitter_handle</th>\n",
       "      <th>title</th>\n",
       "      <th>variety</th>\n",
       "      <th>winery</th>\n",
       "    </tr>\n",
       "  </thead>\n",
       "  <tbody>\n",
       "    <tr>\n",
       "      <th>0</th>\n",
       "      <td>Italy</td>\n",
       "      <td>Aromas include tropical fruit, broom, brimston...</td>\n",
       "      <td>Vulkà Bianco</td>\n",
       "      <td>87</td>\n",
       "      <td>NaN</td>\n",
       "      <td>Sicily &amp; Sardinia</td>\n",
       "      <td>Etna</td>\n",
       "      <td>NaN</td>\n",
       "      <td>Kerin O’Keefe</td>\n",
       "      <td>@kerinokeefe</td>\n",
       "      <td>Nicosia 2013 Vulkà Bianco  (Etna)</td>\n",
       "      <td>White Blend</td>\n",
       "      <td>Nicosia</td>\n",
       "    </tr>\n",
       "    <tr>\n",
       "      <th>1</th>\n",
       "      <td>Portugal</td>\n",
       "      <td>This is ripe and fruity, a wine that is smooth...</td>\n",
       "      <td>Avidagos</td>\n",
       "      <td>87</td>\n",
       "      <td>15.0</td>\n",
       "      <td>Douro</td>\n",
       "      <td>NaN</td>\n",
       "      <td>NaN</td>\n",
       "      <td>Roger Voss</td>\n",
       "      <td>@vossroger</td>\n",
       "      <td>Quinta dos Avidagos 2011 Avidagos Red (Douro)</td>\n",
       "      <td>Portuguese Red</td>\n",
       "      <td>Quinta dos Avidagos</td>\n",
       "    </tr>\n",
       "    <tr>\n",
       "      <th>2</th>\n",
       "      <td>US</td>\n",
       "      <td>Tart and snappy, the flavors of lime flesh and...</td>\n",
       "      <td>NaN</td>\n",
       "      <td>87</td>\n",
       "      <td>14.0</td>\n",
       "      <td>Oregon</td>\n",
       "      <td>Willamette Valley</td>\n",
       "      <td>Willamette Valley</td>\n",
       "      <td>Paul Gregutt</td>\n",
       "      <td>@paulgwine</td>\n",
       "      <td>Rainstorm 2013 Pinot Gris (Willamette Valley)</td>\n",
       "      <td>Pinot Gris</td>\n",
       "      <td>Rainstorm</td>\n",
       "    </tr>\n",
       "    <tr>\n",
       "      <th>3</th>\n",
       "      <td>US</td>\n",
       "      <td>Pineapple rind, lemon pith and orange blossom ...</td>\n",
       "      <td>Reserve Late Harvest</td>\n",
       "      <td>87</td>\n",
       "      <td>13.0</td>\n",
       "      <td>Michigan</td>\n",
       "      <td>Lake Michigan Shore</td>\n",
       "      <td>NaN</td>\n",
       "      <td>Alexander Peartree</td>\n",
       "      <td>NaN</td>\n",
       "      <td>St. Julian 2013 Reserve Late Harvest Riesling ...</td>\n",
       "      <td>Riesling</td>\n",
       "      <td>St. Julian</td>\n",
       "    </tr>\n",
       "    <tr>\n",
       "      <th>4</th>\n",
       "      <td>US</td>\n",
       "      <td>Much like the regular bottling from 2012, this...</td>\n",
       "      <td>Vintner's Reserve Wild Child Block</td>\n",
       "      <td>87</td>\n",
       "      <td>65.0</td>\n",
       "      <td>Oregon</td>\n",
       "      <td>Willamette Valley</td>\n",
       "      <td>Willamette Valley</td>\n",
       "      <td>Paul Gregutt</td>\n",
       "      <td>@paulgwine</td>\n",
       "      <td>Sweet Cheeks 2012 Vintner's Reserve Wild Child...</td>\n",
       "      <td>Pinot Noir</td>\n",
       "      <td>Sweet Cheeks</td>\n",
       "    </tr>\n",
       "  </tbody>\n",
       "</table>\n",
       "</div>"
      ],
      "text/plain": [
       "    country                                        description  \\\n",
       "0     Italy  Aromas include tropical fruit, broom, brimston...   \n",
       "1  Portugal  This is ripe and fruity, a wine that is smooth...   \n",
       "2        US  Tart and snappy, the flavors of lime flesh and...   \n",
       "3        US  Pineapple rind, lemon pith and orange blossom ...   \n",
       "4        US  Much like the regular bottling from 2012, this...   \n",
       "\n",
       "                          designation  points  price           province  \\\n",
       "0                        Vulkà Bianco      87    NaN  Sicily & Sardinia   \n",
       "1                            Avidagos      87   15.0              Douro   \n",
       "2                                 NaN      87   14.0             Oregon   \n",
       "3                Reserve Late Harvest      87   13.0           Michigan   \n",
       "4  Vintner's Reserve Wild Child Block      87   65.0             Oregon   \n",
       "\n",
       "              region_1           region_2         taster_name  \\\n",
       "0                 Etna                NaN       Kerin O’Keefe   \n",
       "1                  NaN                NaN          Roger Voss   \n",
       "2    Willamette Valley  Willamette Valley        Paul Gregutt   \n",
       "3  Lake Michigan Shore                NaN  Alexander Peartree   \n",
       "4    Willamette Valley  Willamette Valley        Paul Gregutt   \n",
       "\n",
       "  taster_twitter_handle                                              title  \\\n",
       "0          @kerinokeefe                  Nicosia 2013 Vulkà Bianco  (Etna)   \n",
       "1            @vossroger      Quinta dos Avidagos 2011 Avidagos Red (Douro)   \n",
       "2           @paulgwine       Rainstorm 2013 Pinot Gris (Willamette Valley)   \n",
       "3                   NaN  St. Julian 2013 Reserve Late Harvest Riesling ...   \n",
       "4           @paulgwine   Sweet Cheeks 2012 Vintner's Reserve Wild Child...   \n",
       "\n",
       "          variety               winery  \n",
       "0     White Blend              Nicosia  \n",
       "1  Portuguese Red  Quinta dos Avidagos  \n",
       "2      Pinot Gris            Rainstorm  \n",
       "3        Riesling           St. Julian  \n",
       "4      Pinot Noir         Sweet Cheeks  "
      ]
     },
     "execution_count": 2,
     "metadata": {},
     "output_type": "execute_result"
    }
   ],
   "source": [
    "reviews.head()"
   ]
  },
  {
   "cell_type": "markdown",
   "id": "f3c2f747",
   "metadata": {
    "papermill": {
     "duration": 0.008058,
     "end_time": "2024-03-12T11:31:32.675097",
     "exception": false,
     "start_time": "2024-03-12T11:31:32.667039",
     "status": "completed"
    },
    "tags": []
   },
   "source": [
    "## 1.\n",
    "`region_1` and `region_2` are pretty uninformative names for locale columns in the dataset. Create a copy of `reviews` with these columns renamed to `region` and `locale`, respectively."
   ]
  },
  {
   "cell_type": "code",
   "execution_count": 3,
   "id": "745b0de9",
   "metadata": {
    "execution": {
     "iopub.execute_input": "2024-03-12T11:31:32.695219Z",
     "iopub.status.busy": "2024-03-12T11:31:32.693851Z",
     "iopub.status.idle": "2024-03-12T11:31:32.719843Z",
     "shell.execute_reply": "2024-03-12T11:31:32.718620Z"
    },
    "papermill": {
     "duration": 0.039138,
     "end_time": "2024-03-12T11:31:32.723065",
     "exception": false,
     "start_time": "2024-03-12T11:31:32.683927",
     "status": "completed"
    },
    "tags": []
   },
   "outputs": [
    {
     "data": {
      "application/javascript": [
       "parent.postMessage({\"jupyterEvent\": \"custom.exercise_interaction\", \"data\": {\"outcomeType\": 1, \"valueTowardsCompletion\": 0.25, \"interactionType\": 1, \"questionType\": 1, \"questionId\": \"1_RenameCols\", \"learnToolsVersion\": \"0.3.4\", \"failureMessage\": \"\", \"exceptionClass\": \"\", \"trace\": \"\"}}, \"*\")"
      ],
      "text/plain": [
       "<IPython.core.display.Javascript object>"
      ]
     },
     "metadata": {},
     "output_type": "display_data"
    },
    {
     "data": {
      "text/markdown": [
       "<span style=\"color:#33cc33\">Correct</span>"
      ],
      "text/plain": [
       "Correct"
      ]
     },
     "metadata": {},
     "output_type": "display_data"
    }
   ],
   "source": [
    "# Your code here\n",
    "renamed = reviews.rename(columns={'region_1': 'region','region_2': 'locale'})\n",
    "\n",
    "# Check your answer\n",
    "q1.check()"
   ]
  },
  {
   "cell_type": "code",
   "execution_count": 4,
   "id": "225ca7cc",
   "metadata": {
    "execution": {
     "iopub.execute_input": "2024-03-12T11:31:32.744488Z",
     "iopub.status.busy": "2024-03-12T11:31:32.743791Z",
     "iopub.status.idle": "2024-03-12T11:31:32.748425Z",
     "shell.execute_reply": "2024-03-12T11:31:32.747470Z"
    },
    "papermill": {
     "duration": 0.018713,
     "end_time": "2024-03-12T11:31:32.750917",
     "exception": false,
     "start_time": "2024-03-12T11:31:32.732204",
     "status": "completed"
    },
    "tags": []
   },
   "outputs": [],
   "source": [
    "#q1.hint()\n",
    "#q1.solution()"
   ]
  },
  {
   "cell_type": "markdown",
   "id": "3c8f83c1",
   "metadata": {
    "papermill": {
     "duration": 0.00841,
     "end_time": "2024-03-12T11:31:32.768279",
     "exception": false,
     "start_time": "2024-03-12T11:31:32.759869",
     "status": "completed"
    },
    "tags": []
   },
   "source": [
    "## 2.\n",
    "Set the index name in the dataset to `wines`."
   ]
  },
  {
   "cell_type": "code",
   "execution_count": 5,
   "id": "91dafe1b",
   "metadata": {
    "execution": {
     "iopub.execute_input": "2024-03-12T11:31:32.788342Z",
     "iopub.status.busy": "2024-03-12T11:31:32.787640Z",
     "iopub.status.idle": "2024-03-12T11:31:32.813303Z",
     "shell.execute_reply": "2024-03-12T11:31:32.812142Z"
    },
    "papermill": {
     "duration": 0.039605,
     "end_time": "2024-03-12T11:31:32.816743",
     "exception": false,
     "start_time": "2024-03-12T11:31:32.777138",
     "status": "completed"
    },
    "tags": []
   },
   "outputs": [
    {
     "data": {
      "application/javascript": [
       "parent.postMessage({\"jupyterEvent\": \"custom.exercise_interaction\", \"data\": {\"outcomeType\": 1, \"valueTowardsCompletion\": 0.25, \"interactionType\": 1, \"questionType\": 1, \"questionId\": \"2_RenameIndex\", \"learnToolsVersion\": \"0.3.4\", \"failureMessage\": \"\", \"exceptionClass\": \"\", \"trace\": \"\"}}, \"*\")"
      ],
      "text/plain": [
       "<IPython.core.display.Javascript object>"
      ]
     },
     "metadata": {},
     "output_type": "display_data"
    },
    {
     "data": {
      "text/markdown": [
       "<span style=\"color:#33cc33\">Correct</span>"
      ],
      "text/plain": [
       "Correct"
      ]
     },
     "metadata": {},
     "output_type": "display_data"
    }
   ],
   "source": [
    "reindexed = reviews.rename_axis(\"wines\", axis='rows')\n",
    "\n",
    "# Check your answer\n",
    "q2.check()"
   ]
  },
  {
   "cell_type": "code",
   "execution_count": 6,
   "id": "ae37a830",
   "metadata": {
    "execution": {
     "iopub.execute_input": "2024-03-12T11:31:32.837751Z",
     "iopub.status.busy": "2024-03-12T11:31:32.837259Z",
     "iopub.status.idle": "2024-03-12T11:31:32.842257Z",
     "shell.execute_reply": "2024-03-12T11:31:32.840991Z"
    },
    "papermill": {
     "duration": 0.018107,
     "end_time": "2024-03-12T11:31:32.844874",
     "exception": false,
     "start_time": "2024-03-12T11:31:32.826767",
     "status": "completed"
    },
    "tags": []
   },
   "outputs": [],
   "source": [
    "#q2.hint()\n",
    "#q2.solution()"
   ]
  },
  {
   "cell_type": "markdown",
   "id": "f7479e4e",
   "metadata": {
    "papermill": {
     "duration": 0.008626,
     "end_time": "2024-03-12T11:31:32.862544",
     "exception": false,
     "start_time": "2024-03-12T11:31:32.853918",
     "status": "completed"
    },
    "tags": []
   },
   "source": [
    "## 3.\n",
    "The [Things on Reddit](https://www.kaggle.com/residentmario/things-on-reddit/data) dataset includes product links from a selection of top-ranked forums (\"subreddits\") on reddit.com. Run the cell below to load a dataframe of products mentioned on the */r/gaming* subreddit and another dataframe for products mentioned on the *r//movies* subreddit."
   ]
  },
  {
   "cell_type": "code",
   "execution_count": 7,
   "id": "f2dc5cf4",
   "metadata": {
    "execution": {
     "iopub.execute_input": "2024-03-12T11:31:32.883500Z",
     "iopub.status.busy": "2024-03-12T11:31:32.883053Z",
     "iopub.status.idle": "2024-03-12T11:31:32.900083Z",
     "shell.execute_reply": "2024-03-12T11:31:32.898832Z"
    },
    "papermill": {
     "duration": 0.031699,
     "end_time": "2024-03-12T11:31:32.903192",
     "exception": false,
     "start_time": "2024-03-12T11:31:32.871493",
     "status": "completed"
    },
    "tags": []
   },
   "outputs": [],
   "source": [
    "gaming_products = pd.read_csv(\"../input/things-on-reddit/top-things/top-things/reddits/g/gaming.csv\")\n",
    "gaming_products['subreddit'] = \"r/gaming\"\n",
    "movie_products = pd.read_csv(\"../input/things-on-reddit/top-things/top-things/reddits/m/movies.csv\")\n",
    "movie_products['subreddit'] = \"r/movies\""
   ]
  },
  {
   "cell_type": "markdown",
   "id": "d4fc8252",
   "metadata": {
    "papermill": {
     "duration": 0.009181,
     "end_time": "2024-03-12T11:31:32.921665",
     "exception": false,
     "start_time": "2024-03-12T11:31:32.912484",
     "status": "completed"
    },
    "tags": []
   },
   "source": [
    "Create a `DataFrame` of products mentioned on *either* subreddit."
   ]
  },
  {
   "cell_type": "code",
   "execution_count": 8,
   "id": "e7609469",
   "metadata": {
    "execution": {
     "iopub.execute_input": "2024-03-12T11:31:32.941993Z",
     "iopub.status.busy": "2024-03-12T11:31:32.941510Z",
     "iopub.status.idle": "2024-03-12T11:31:32.956599Z",
     "shell.execute_reply": "2024-03-12T11:31:32.955222Z"
    },
    "papermill": {
     "duration": 0.028546,
     "end_time": "2024-03-12T11:31:32.959374",
     "exception": false,
     "start_time": "2024-03-12T11:31:32.930828",
     "status": "completed"
    },
    "tags": []
   },
   "outputs": [
    {
     "data": {
      "application/javascript": [
       "parent.postMessage({\"jupyterEvent\": \"custom.exercise_interaction\", \"data\": {\"outcomeType\": 1, \"valueTowardsCompletion\": 0.25, \"interactionType\": 1, \"questionType\": 2, \"questionId\": \"3_ConcatReddit\", \"learnToolsVersion\": \"0.3.4\", \"failureMessage\": \"\", \"exceptionClass\": \"\", \"trace\": \"\"}}, \"*\")"
      ],
      "text/plain": [
       "<IPython.core.display.Javascript object>"
      ]
     },
     "metadata": {},
     "output_type": "display_data"
    },
    {
     "data": {
      "text/markdown": [
       "<span style=\"color:#33cc33\">Correct</span>"
      ],
      "text/plain": [
       "Correct"
      ]
     },
     "metadata": {},
     "output_type": "display_data"
    }
   ],
   "source": [
    "combined_products = pd.concat([gaming_products, movie_products])\n",
    "\n",
    "# Check your answer\n",
    "q3.check()"
   ]
  },
  {
   "cell_type": "code",
   "execution_count": 9,
   "id": "254d9b72",
   "metadata": {
    "execution": {
     "iopub.execute_input": "2024-03-12T11:31:32.980124Z",
     "iopub.status.busy": "2024-03-12T11:31:32.979670Z",
     "iopub.status.idle": "2024-03-12T11:31:32.985017Z",
     "shell.execute_reply": "2024-03-12T11:31:32.983611Z"
    },
    "papermill": {
     "duration": 0.01882,
     "end_time": "2024-03-12T11:31:32.987629",
     "exception": false,
     "start_time": "2024-03-12T11:31:32.968809",
     "status": "completed"
    },
    "tags": []
   },
   "outputs": [],
   "source": [
    "#q3.hint()\n",
    "#q3.solution()"
   ]
  },
  {
   "cell_type": "markdown",
   "id": "c801e0ed",
   "metadata": {
    "papermill": {
     "duration": 0.009245,
     "end_time": "2024-03-12T11:31:33.006367",
     "exception": false,
     "start_time": "2024-03-12T11:31:32.997122",
     "status": "completed"
    },
    "tags": []
   },
   "source": [
    "## 4.\n",
    "The [Powerlifting Database](https://www.kaggle.com/open-powerlifting/powerlifting-database) dataset on Kaggle includes one CSV table for powerlifting meets and a separate one for powerlifting competitors. Run the cell below to load these datasets into dataframes:"
   ]
  },
  {
   "cell_type": "code",
   "execution_count": 10,
   "id": "cfab617d",
   "metadata": {
    "execution": {
     "iopub.execute_input": "2024-03-12T11:31:33.027454Z",
     "iopub.status.busy": "2024-03-12T11:31:33.027015Z",
     "iopub.status.idle": "2024-03-12T11:31:34.181947Z",
     "shell.execute_reply": "2024-03-12T11:31:34.180435Z"
    },
    "papermill": {
     "duration": 1.16922,
     "end_time": "2024-03-12T11:31:34.185179",
     "exception": false,
     "start_time": "2024-03-12T11:31:33.015959",
     "status": "completed"
    },
    "tags": []
   },
   "outputs": [],
   "source": [
    "powerlifting_meets = pd.read_csv(\"../input/powerlifting-database/meets.csv\")\n",
    "powerlifting_competitors = pd.read_csv(\"../input/powerlifting-database/openpowerlifting.csv\")"
   ]
  },
  {
   "cell_type": "markdown",
   "id": "767b070c",
   "metadata": {
    "papermill": {
     "duration": 0.009489,
     "end_time": "2024-03-12T11:31:34.204793",
     "exception": false,
     "start_time": "2024-03-12T11:31:34.195304",
     "status": "completed"
    },
    "tags": []
   },
   "source": [
    "Both tables include references to a `MeetID`, a unique key for each meet (competition) included in the database. Using this, generate a dataset combining the two tables into one."
   ]
  },
  {
   "cell_type": "code",
   "execution_count": 11,
   "id": "294e579b",
   "metadata": {
    "execution": {
     "iopub.execute_input": "2024-03-12T11:31:34.226463Z",
     "iopub.status.busy": "2024-03-12T11:31:34.226014Z",
     "iopub.status.idle": "2024-03-12T11:31:35.552703Z",
     "shell.execute_reply": "2024-03-12T11:31:35.551842Z"
    },
    "papermill": {
     "duration": 1.340421,
     "end_time": "2024-03-12T11:31:35.555023",
     "exception": false,
     "start_time": "2024-03-12T11:31:34.214602",
     "status": "completed"
    },
    "tags": []
   },
   "outputs": [
    {
     "data": {
      "application/javascript": [
       "parent.postMessage({\"jupyterEvent\": \"custom.exercise_interaction\", \"data\": {\"outcomeType\": 1, \"valueTowardsCompletion\": 0.25, \"interactionType\": 1, \"questionType\": 2, \"questionId\": \"4_JoinLifting\", \"learnToolsVersion\": \"0.3.4\", \"failureMessage\": \"\", \"exceptionClass\": \"\", \"trace\": \"\"}}, \"*\")"
      ],
      "text/plain": [
       "<IPython.core.display.Javascript object>"
      ]
     },
     "metadata": {},
     "output_type": "display_data"
    },
    {
     "data": {
      "text/markdown": [
       "<span style=\"color:#33cc33\">Correct</span>"
      ],
      "text/plain": [
       "Correct"
      ]
     },
     "metadata": {},
     "output_type": "display_data"
    }
   ],
   "source": [
    "# set a common index (primary key) for each and join using this criteria\n",
    "meets = powerlifting_meets.set_index(['MeetID'])\n",
    "competitors = powerlifting_competitors.set_index(['MeetID'])\n",
    "powerlifting_combined = meets.join(competitors)\n",
    "\n",
    "# Check your answer\n",
    "q4.check()"
   ]
  },
  {
   "cell_type": "code",
   "execution_count": 12,
   "id": "8bedceda",
   "metadata": {
    "execution": {
     "iopub.execute_input": "2024-03-12T11:31:35.577377Z",
     "iopub.status.busy": "2024-03-12T11:31:35.576677Z",
     "iopub.status.idle": "2024-03-12T11:31:35.580569Z",
     "shell.execute_reply": "2024-03-12T11:31:35.579643Z"
    },
    "papermill": {
     "duration": 0.018048,
     "end_time": "2024-03-12T11:31:35.582972",
     "exception": false,
     "start_time": "2024-03-12T11:31:35.564924",
     "status": "completed"
    },
    "tags": []
   },
   "outputs": [],
   "source": [
    "#q4.hint()\n",
    "#q4.solution()"
   ]
  },
  {
   "cell_type": "markdown",
   "id": "c52e6376",
   "metadata": {
    "papermill": {
     "duration": 0.009764,
     "end_time": "2024-03-12T11:31:35.602781",
     "exception": false,
     "start_time": "2024-03-12T11:31:35.593017",
     "status": "completed"
    },
    "tags": []
   },
   "source": [
    "# Congratulations!\n",
    "\n",
    "You've finished the Pandas micro-course.  Many data scientists feel efficiency with Pandas is the most useful and practical skill they have, because it allows you to progress quickly in any project you have.\n",
    "\n",
    "If you'd like to apply your new skills to examining geospatial data, you're encouraged to check out our **[Geospatial Analysis](https://www.kaggle.com/learn/geospatial-analysis)** micro-course.\n",
    "\n",
    "You can also take advantage of your Pandas skills by entering a **[Kaggle Competition](https://www.kaggle.com/competitions)** or by answering a question you find interesting using **[Kaggle Datasets](https://www.kaggle.com/datasets)**."
   ]
  },
  {
   "cell_type": "markdown",
   "id": "16fd5534",
   "metadata": {
    "papermill": {
     "duration": 0.009735,
     "end_time": "2024-03-12T11:31:35.622495",
     "exception": false,
     "start_time": "2024-03-12T11:31:35.612760",
     "status": "completed"
    },
    "tags": []
   },
   "source": [
    "---\n",
    "\n",
    "\n",
    "\n",
    "\n",
    "*Have questions or comments? Visit the [course discussion forum](https://www.kaggle.com/learn/pandas/discussion) to chat with other learners.*"
   ]
  }
 ],
 "metadata": {
  "kaggle": {
   "accelerator": "none",
   "dataSources": [
    {
     "datasetId": 655,
     "sourceId": 1252,
     "sourceType": "datasetVersion"
    },
    {
     "datasetId": 2321,
     "sourceId": 3919,
     "sourceType": "datasetVersion"
    },
    {
     "datasetId": 2894,
     "sourceId": 4877,
     "sourceType": "datasetVersion"
    },
    {
     "datasetId": 3491,
     "sourceId": 5624,
     "sourceType": "datasetVersion"
    },
    {
     "datasetId": 1442,
     "sourceId": 8172,
     "sourceType": "datasetVersion"
    },
    {
     "datasetId": 9366,
     "sourceId": 13206,
     "sourceType": "datasetVersion"
    },
    {
     "datasetId": 179555,
     "sourceId": 403916,
     "sourceType": "datasetVersion"
    },
    {
     "datasetId": 4549,
     "sourceId": 466349,
     "sourceType": "datasetVersion"
    },
    {
     "datasetId": 2478,
     "sourceId": 1151655,
     "sourceType": "datasetVersion"
    },
    {
     "datasetId": 10128,
     "sourceId": 5438389,
     "sourceType": "datasetVersion"
    }
   ],
   "isGpuEnabled": false,
   "isInternetEnabled": false,
   "language": "python",
   "sourceType": "notebook"
  },
  "kernelspec": {
   "display_name": "Python 3",
   "language": "python",
   "name": "python3"
  },
  "language_info": {
   "codemirror_mode": {
    "name": "ipython",
    "version": 3
   },
   "file_extension": ".py",
   "mimetype": "text/x-python",
   "name": "python",
   "nbconvert_exporter": "python",
   "pygments_lexer": "ipython3",
   "version": "3.10.13"
  },
  "papermill": {
   "default_parameters": {},
   "duration": 14.277347,
   "end_time": "2024-03-12T11:31:36.455439",
   "environment_variables": {},
   "exception": null,
   "input_path": "__notebook__.ipynb",
   "output_path": "__notebook__.ipynb",
   "parameters": {},
   "start_time": "2024-03-12T11:31:22.178092",
   "version": "2.5.0"
  }
 },
 "nbformat": 4,
 "nbformat_minor": 5
}
