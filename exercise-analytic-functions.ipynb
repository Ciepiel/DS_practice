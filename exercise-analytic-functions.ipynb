{
 "cells": [
  {
   "cell_type": "markdown",
   "id": "f7ce4230",
   "metadata": {
    "papermill": {
     "duration": 0.00598,
     "end_time": "2024-03-13T16:43:39.461795",
     "exception": false,
     "start_time": "2024-03-13T16:43:39.455815",
     "status": "completed"
    },
    "tags": []
   },
   "source": [
    "**This notebook is an exercise in the [Advanced SQL](https://www.kaggle.com/learn/advanced-sql) course.  You can reference the tutorial at [this link](https://www.kaggle.com/alexisbcook/analytic-functions).**\n",
    "\n",
    "---\n"
   ]
  },
  {
   "cell_type": "markdown",
   "id": "9143978d",
   "metadata": {
    "papermill": {
     "duration": 0.005139,
     "end_time": "2024-03-13T16:43:39.472815",
     "exception": false,
     "start_time": "2024-03-13T16:43:39.467676",
     "status": "completed"
    },
    "tags": []
   },
   "source": [
    "# Introduction\n",
    "\n",
    "Here, you'll use window functions to answer questions about the [Chicago Taxi Trips](https://www.kaggle.com/chicago/chicago-taxi-trips-bq) dataset.\n",
    "\n",
    "Before you get started, run the code cell below to set everything up."
   ]
  },
  {
   "cell_type": "code",
   "execution_count": 1,
   "id": "8a270cc4",
   "metadata": {
    "execution": {
     "iopub.execute_input": "2024-03-13T16:43:39.487812Z",
     "iopub.status.busy": "2024-03-13T16:43:39.486389Z",
     "iopub.status.idle": "2024-03-13T16:44:23.485994Z",
     "shell.execute_reply": "2024-03-13T16:44:23.484580Z"
    },
    "papermill": {
     "duration": 44.010345,
     "end_time": "2024-03-13T16:44:23.488747",
     "exception": false,
     "start_time": "2024-03-13T16:43:39.478402",
     "status": "completed"
    },
    "tags": []
   },
   "outputs": [
    {
     "name": "stdout",
     "output_type": "stream",
     "text": [
      "Collecting git+https://github.com/Kaggle/learntools.git\r\n",
      "  Cloning https://github.com/Kaggle/learntools.git to /tmp/pip-req-build-d3vorwd6\r\n",
      "  Running command git clone --filter=blob:none --quiet https://github.com/Kaggle/learntools.git /tmp/pip-req-build-d3vorwd6\r\n",
      "  Resolved https://github.com/Kaggle/learntools.git to commit 183cdad0530e7c898cd4658a63b579c54e91f056\r\n",
      "  Preparing metadata (setup.py) ... \u001b[?25ldone\r\n",
      "\u001b[?25hBuilding wheels for collected packages: learntools\r\n",
      "  Building wheel for learntools (setup.py) ... \u001b[?25l-\b \bdone\r\n",
      "\u001b[?25h  Created wheel for learntools: filename=learntools-0.3.4-py3-none-any.whl size=268968 sha256=4ca553b8389a367979d25a5cc11b91ec0fa777db6a736d8076ec81b57ccab684\r\n",
      "  Stored in directory: /tmp/pip-ephem-wheel-cache-9ppsgg12/wheels/2f/6c/3c/aa9f50cfb5a862157cb4c7a5b34881828cf45404698255dced\r\n",
      "Successfully built learntools\r\n",
      "Installing collected packages: learntools\r\n",
      "Successfully installed learntools-0.3.4\r\n",
      "Using Kaggle's public dataset BigQuery integration.\n",
      "Setup Complete\n"
     ]
    }
   ],
   "source": [
    "# Get most recent checking code\n",
    "!pip install -U -t /kaggle/working/ git+https://github.com/Kaggle/learntools.git\n",
    "# Set up feedback system\n",
    "from learntools.core import binder\n",
    "binder.bind(globals())\n",
    "from learntools.sql_advanced.ex2 import *\n",
    "print(\"Setup Complete\")"
   ]
  },
  {
   "cell_type": "markdown",
   "id": "e862a3d6",
   "metadata": {
    "papermill": {
     "duration": 0.006232,
     "end_time": "2024-03-13T16:44:23.501510",
     "exception": false,
     "start_time": "2024-03-13T16:44:23.495278",
     "status": "completed"
    },
    "tags": []
   },
   "source": [
    "The following code cell fetches the `taxi_trips` table from the `chicago_taxi_trips` dataset. We also preview the first five rows of the table.  You'll use the table to answer the questions below."
   ]
  },
  {
   "cell_type": "code",
   "execution_count": 2,
   "id": "0acd46c1",
   "metadata": {
    "execution": {
     "iopub.execute_input": "2024-03-13T16:44:23.519176Z",
     "iopub.status.busy": "2024-03-13T16:44:23.516824Z",
     "iopub.status.idle": "2024-03-13T16:44:24.687289Z",
     "shell.execute_reply": "2024-03-13T16:44:24.685922Z"
    },
    "papermill": {
     "duration": 1.181921,
     "end_time": "2024-03-13T16:44:24.690039",
     "exception": false,
     "start_time": "2024-03-13T16:44:23.508118",
     "status": "completed"
    },
    "tags": []
   },
   "outputs": [
    {
     "name": "stdout",
     "output_type": "stream",
     "text": [
      "Using Kaggle's public dataset BigQuery integration.\n"
     ]
    },
    {
     "data": {
      "text/html": [
       "<div>\n",
       "<style scoped>\n",
       "    .dataframe tbody tr th:only-of-type {\n",
       "        vertical-align: middle;\n",
       "    }\n",
       "\n",
       "    .dataframe tbody tr th {\n",
       "        vertical-align: top;\n",
       "    }\n",
       "\n",
       "    .dataframe thead th {\n",
       "        text-align: right;\n",
       "    }\n",
       "</style>\n",
       "<table border=\"1\" class=\"dataframe\">\n",
       "  <thead>\n",
       "    <tr style=\"text-align: right;\">\n",
       "      <th></th>\n",
       "      <th>unique_key</th>\n",
       "      <th>taxi_id</th>\n",
       "      <th>trip_start_timestamp</th>\n",
       "      <th>trip_end_timestamp</th>\n",
       "      <th>trip_seconds</th>\n",
       "      <th>trip_miles</th>\n",
       "      <th>pickup_census_tract</th>\n",
       "      <th>dropoff_census_tract</th>\n",
       "      <th>pickup_community_area</th>\n",
       "      <th>dropoff_community_area</th>\n",
       "      <th>...</th>\n",
       "      <th>extras</th>\n",
       "      <th>trip_total</th>\n",
       "      <th>payment_type</th>\n",
       "      <th>company</th>\n",
       "      <th>pickup_latitude</th>\n",
       "      <th>pickup_longitude</th>\n",
       "      <th>pickup_location</th>\n",
       "      <th>dropoff_latitude</th>\n",
       "      <th>dropoff_longitude</th>\n",
       "      <th>dropoff_location</th>\n",
       "    </tr>\n",
       "  </thead>\n",
       "  <tbody>\n",
       "    <tr>\n",
       "      <th>0</th>\n",
       "      <td>89dbb2fc5b8dad6e95f3da319010d3995b9aed3a</td>\n",
       "      <td>4efb4a59d8c600a9d2a8d14362769bed234568a573dc5f...</td>\n",
       "      <td>2014-12-01 18:30:00+00:00</td>\n",
       "      <td>2014-12-01 18:30:00+00:00</td>\n",
       "      <td>420</td>\n",
       "      <td>0.8</td>\n",
       "      <td>NaN</td>\n",
       "      <td>NaN</td>\n",
       "      <td>NaN</td>\n",
       "      <td>NaN</td>\n",
       "      <td>...</td>\n",
       "      <td>1.0</td>\n",
       "      <td>6.65</td>\n",
       "      <td>Cash</td>\n",
       "      <td>None</td>\n",
       "      <td>NaN</td>\n",
       "      <td>NaN</td>\n",
       "      <td>None</td>\n",
       "      <td>NaN</td>\n",
       "      <td>NaN</td>\n",
       "      <td>None</td>\n",
       "    </tr>\n",
       "    <tr>\n",
       "      <th>1</th>\n",
       "      <td>33d91796f8cc1c00b68addf4b95b5c0dc01c95d0</td>\n",
       "      <td>ac3197af61ac119894f5d339834595e2d1e28f8d6609e7...</td>\n",
       "      <td>2014-11-28 06:30:00+00:00</td>\n",
       "      <td>2014-11-28 06:45:00+00:00</td>\n",
       "      <td>540</td>\n",
       "      <td>2.2</td>\n",
       "      <td>NaN</td>\n",
       "      <td>NaN</td>\n",
       "      <td>NaN</td>\n",
       "      <td>NaN</td>\n",
       "      <td>...</td>\n",
       "      <td>0.0</td>\n",
       "      <td>8.25</td>\n",
       "      <td>Cash</td>\n",
       "      <td>None</td>\n",
       "      <td>NaN</td>\n",
       "      <td>NaN</td>\n",
       "      <td>None</td>\n",
       "      <td>NaN</td>\n",
       "      <td>NaN</td>\n",
       "      <td>None</td>\n",
       "    </tr>\n",
       "    <tr>\n",
       "      <th>2</th>\n",
       "      <td>9759ecc279a90f20e346d0eab065a8275d28b2e0</td>\n",
       "      <td>ac3197af61ac119894f5d339834595e2d1e28f8d6609e7...</td>\n",
       "      <td>2014-11-28 08:15:00+00:00</td>\n",
       "      <td>2014-11-28 08:15:00+00:00</td>\n",
       "      <td>180</td>\n",
       "      <td>0.5</td>\n",
       "      <td>NaN</td>\n",
       "      <td>NaN</td>\n",
       "      <td>NaN</td>\n",
       "      <td>NaN</td>\n",
       "      <td>...</td>\n",
       "      <td>0.0</td>\n",
       "      <td>4.45</td>\n",
       "      <td>Cash</td>\n",
       "      <td>None</td>\n",
       "      <td>NaN</td>\n",
       "      <td>NaN</td>\n",
       "      <td>None</td>\n",
       "      <td>NaN</td>\n",
       "      <td>NaN</td>\n",
       "      <td>None</td>\n",
       "    </tr>\n",
       "    <tr>\n",
       "      <th>3</th>\n",
       "      <td>a3059e04c539b9f333116268ee80bc8790e31b16</td>\n",
       "      <td>ac3197af61ac119894f5d339834595e2d1e28f8d6609e7...</td>\n",
       "      <td>2014-11-28 05:30:00+00:00</td>\n",
       "      <td>2014-11-28 05:30:00+00:00</td>\n",
       "      <td>180</td>\n",
       "      <td>0.6</td>\n",
       "      <td>NaN</td>\n",
       "      <td>NaN</td>\n",
       "      <td>NaN</td>\n",
       "      <td>NaN</td>\n",
       "      <td>...</td>\n",
       "      <td>0.0</td>\n",
       "      <td>6.84</td>\n",
       "      <td>Credit Card</td>\n",
       "      <td>None</td>\n",
       "      <td>NaN</td>\n",
       "      <td>NaN</td>\n",
       "      <td>None</td>\n",
       "      <td>NaN</td>\n",
       "      <td>NaN</td>\n",
       "      <td>None</td>\n",
       "    </tr>\n",
       "    <tr>\n",
       "      <th>4</th>\n",
       "      <td>e9fbfd63f479544264ab62ffee1663644f089c4f</td>\n",
       "      <td>ac3197af61ac119894f5d339834595e2d1e28f8d6609e7...</td>\n",
       "      <td>2014-11-28 06:15:00+00:00</td>\n",
       "      <td>2014-11-28 06:15:00+00:00</td>\n",
       "      <td>480</td>\n",
       "      <td>2.5</td>\n",
       "      <td>NaN</td>\n",
       "      <td>NaN</td>\n",
       "      <td>NaN</td>\n",
       "      <td>NaN</td>\n",
       "      <td>...</td>\n",
       "      <td>0.0</td>\n",
       "      <td>8.25</td>\n",
       "      <td>Cash</td>\n",
       "      <td>None</td>\n",
       "      <td>NaN</td>\n",
       "      <td>NaN</td>\n",
       "      <td>None</td>\n",
       "      <td>NaN</td>\n",
       "      <td>NaN</td>\n",
       "      <td>None</td>\n",
       "    </tr>\n",
       "  </tbody>\n",
       "</table>\n",
       "<p>5 rows × 23 columns</p>\n",
       "</div>"
      ],
      "text/plain": [
       "                                 unique_key  \\\n",
       "0  89dbb2fc5b8dad6e95f3da319010d3995b9aed3a   \n",
       "1  33d91796f8cc1c00b68addf4b95b5c0dc01c95d0   \n",
       "2  9759ecc279a90f20e346d0eab065a8275d28b2e0   \n",
       "3  a3059e04c539b9f333116268ee80bc8790e31b16   \n",
       "4  e9fbfd63f479544264ab62ffee1663644f089c4f   \n",
       "\n",
       "                                             taxi_id  \\\n",
       "0  4efb4a59d8c600a9d2a8d14362769bed234568a573dc5f...   \n",
       "1  ac3197af61ac119894f5d339834595e2d1e28f8d6609e7...   \n",
       "2  ac3197af61ac119894f5d339834595e2d1e28f8d6609e7...   \n",
       "3  ac3197af61ac119894f5d339834595e2d1e28f8d6609e7...   \n",
       "4  ac3197af61ac119894f5d339834595e2d1e28f8d6609e7...   \n",
       "\n",
       "       trip_start_timestamp        trip_end_timestamp  trip_seconds  \\\n",
       "0 2014-12-01 18:30:00+00:00 2014-12-01 18:30:00+00:00           420   \n",
       "1 2014-11-28 06:30:00+00:00 2014-11-28 06:45:00+00:00           540   \n",
       "2 2014-11-28 08:15:00+00:00 2014-11-28 08:15:00+00:00           180   \n",
       "3 2014-11-28 05:30:00+00:00 2014-11-28 05:30:00+00:00           180   \n",
       "4 2014-11-28 06:15:00+00:00 2014-11-28 06:15:00+00:00           480   \n",
       "\n",
       "   trip_miles  pickup_census_tract  dropoff_census_tract  \\\n",
       "0         0.8                  NaN                   NaN   \n",
       "1         2.2                  NaN                   NaN   \n",
       "2         0.5                  NaN                   NaN   \n",
       "3         0.6                  NaN                   NaN   \n",
       "4         2.5                  NaN                   NaN   \n",
       "\n",
       "   pickup_community_area  dropoff_community_area  ...  extras  trip_total  \\\n",
       "0                    NaN                     NaN  ...     1.0        6.65   \n",
       "1                    NaN                     NaN  ...     0.0        8.25   \n",
       "2                    NaN                     NaN  ...     0.0        4.45   \n",
       "3                    NaN                     NaN  ...     0.0        6.84   \n",
       "4                    NaN                     NaN  ...     0.0        8.25   \n",
       "\n",
       "   payment_type  company  pickup_latitude pickup_longitude pickup_location  \\\n",
       "0          Cash     None              NaN              NaN            None   \n",
       "1          Cash     None              NaN              NaN            None   \n",
       "2          Cash     None              NaN              NaN            None   \n",
       "3   Credit Card     None              NaN              NaN            None   \n",
       "4          Cash     None              NaN              NaN            None   \n",
       "\n",
       "   dropoff_latitude  dropoff_longitude dropoff_location  \n",
       "0               NaN                NaN             None  \n",
       "1               NaN                NaN             None  \n",
       "2               NaN                NaN             None  \n",
       "3               NaN                NaN             None  \n",
       "4               NaN                NaN             None  \n",
       "\n",
       "[5 rows x 23 columns]"
      ]
     },
     "execution_count": 2,
     "metadata": {},
     "output_type": "execute_result"
    }
   ],
   "source": [
    "from google.cloud import bigquery\n",
    "\n",
    "# Create a \"Client\" object\n",
    "client = bigquery.Client()\n",
    "\n",
    "# Construct a reference to the \"chicago_taxi_trips\" dataset\n",
    "dataset_ref = client.dataset(\"chicago_taxi_trips\", project=\"bigquery-public-data\")\n",
    "\n",
    "# API request - fetch the dataset\n",
    "dataset = client.get_dataset(dataset_ref)\n",
    "\n",
    "# Construct a reference to the \"taxi_trips\" table\n",
    "table_ref = dataset_ref.table(\"taxi_trips\")\n",
    "\n",
    "# API request - fetch the table\n",
    "table = client.get_table(table_ref)\n",
    "\n",
    "# Preview the first five lines of the table\n",
    "client.list_rows(table, max_results=5).to_dataframe()"
   ]
  },
  {
   "cell_type": "markdown",
   "id": "716848d6",
   "metadata": {
    "papermill": {
     "duration": 0.006796,
     "end_time": "2024-03-13T16:44:24.703981",
     "exception": false,
     "start_time": "2024-03-13T16:44:24.697185",
     "status": "completed"
    },
    "tags": []
   },
   "source": [
    "# Exercises\n",
    "\n",
    "### 1) How can you predict the demand for taxis?\n",
    "\n",
    "Say you work for a taxi company, and you're interested in predicting the demand for taxis.  Towards this goal, you'd like to create a plot that shows a rolling average of the daily number of taxi trips.  Amend the (partial) query below to return a DataFrame with two columns:\n",
    "- `trip_date` - contains one entry for each date from January 1, 2016, to March 31, 2016.\n",
    "- `avg_num_trips` - shows the average number of daily trips, calculated over a window including the value for the current date, along with the values for the preceding 3 days and the following 3 days, as long as the days fit within the three-month time frame.  For instance, when calculating the value in this column for January 3, 2016, the window will include the number of trips for the preceding 2 days, the current date, and the following 3 days.\n",
    "\n",
    "This query is partially completed for you, and you need only write the part that calculates the `avg_num_trips` column.  Note that this query uses a common table expression (CTE); if you need to review how to use CTEs, you're encouraged to check out [this tutorial](https://www.kaggle.com/dansbecker/as-with) in the [Intro to SQL](https://www.kaggle.com/learn/intro-to-sql) course."
   ]
  },
  {
   "cell_type": "code",
   "execution_count": 3,
   "id": "b2fdda81",
   "metadata": {
    "execution": {
     "iopub.execute_input": "2024-03-13T16:44:24.722621Z",
     "iopub.status.busy": "2024-03-13T16:44:24.722161Z",
     "iopub.status.idle": "2024-03-13T16:44:25.925052Z",
     "shell.execute_reply": "2024-03-13T16:44:25.923802Z"
    },
    "papermill": {
     "duration": 1.216268,
     "end_time": "2024-03-13T16:44:25.927946",
     "exception": false,
     "start_time": "2024-03-13T16:44:24.711678",
     "status": "completed"
    },
    "tags": []
   },
   "outputs": [
    {
     "data": {
      "text/html": [
       "<div>\n",
       "<style scoped>\n",
       "    .dataframe tbody tr th:only-of-type {\n",
       "        vertical-align: middle;\n",
       "    }\n",
       "\n",
       "    .dataframe tbody tr th {\n",
       "        vertical-align: top;\n",
       "    }\n",
       "\n",
       "    .dataframe thead th {\n",
       "        text-align: right;\n",
       "    }\n",
       "</style>\n",
       "<table border=\"1\" class=\"dataframe\">\n",
       "  <thead>\n",
       "    <tr style=\"text-align: right;\">\n",
       "      <th></th>\n",
       "      <th>trip_date</th>\n",
       "      <th>avg_num_trips</th>\n",
       "    </tr>\n",
       "  </thead>\n",
       "  <tbody>\n",
       "    <tr>\n",
       "      <th>0</th>\n",
       "      <td>2016-02-07</td>\n",
       "      <td>23288.857143</td>\n",
       "    </tr>\n",
       "    <tr>\n",
       "      <th>1</th>\n",
       "      <td>2016-01-20</td>\n",
       "      <td>23231.571429</td>\n",
       "    </tr>\n",
       "    <tr>\n",
       "      <th>2</th>\n",
       "      <td>2016-03-08</td>\n",
       "      <td>25567.285714</td>\n",
       "    </tr>\n",
       "    <tr>\n",
       "      <th>3</th>\n",
       "      <td>2016-01-06</td>\n",
       "      <td>21314.428571</td>\n",
       "    </tr>\n",
       "    <tr>\n",
       "      <th>4</th>\n",
       "      <td>2016-01-23</td>\n",
       "      <td>23054.000000</td>\n",
       "    </tr>\n",
       "  </tbody>\n",
       "</table>\n",
       "</div>"
      ],
      "text/plain": [
       "    trip_date  avg_num_trips\n",
       "0  2016-02-07   23288.857143\n",
       "1  2016-01-20   23231.571429\n",
       "2  2016-03-08   25567.285714\n",
       "3  2016-01-06   21314.428571\n",
       "4  2016-01-23   23054.000000"
      ]
     },
     "metadata": {},
     "output_type": "display_data"
    },
    {
     "data": {
      "application/javascript": [
       "parent.postMessage({\"jupyterEvent\": \"custom.exercise_interaction\", \"data\": {\"outcomeType\": 1, \"valueTowardsCompletion\": 0.3333333333333333, \"interactionType\": 1, \"questionType\": 2, \"questionId\": \"1_TaxiDemand\", \"learnToolsVersion\": \"0.3.4\", \"failureMessage\": \"\", \"exceptionClass\": \"\", \"trace\": \"\"}}, \"*\")"
      ],
      "text/plain": [
       "<IPython.core.display.Javascript object>"
      ]
     },
     "metadata": {},
     "output_type": "display_data"
    },
    {
     "data": {
      "text/markdown": [
       "<span style=\"color:#33cc33\">Correct</span>"
      ],
      "text/plain": [
       "Correct"
      ]
     },
     "metadata": {},
     "output_type": "display_data"
    }
   ],
   "source": [
    "# Fill in the blank below\n",
    "avg_num_trips_query = \"\"\"\n",
    "                      WITH trips_by_day AS\n",
    "                      (\n",
    "                      SELECT DATE(trip_start_timestamp) AS trip_date,\n",
    "                          COUNT(*) as num_trips\n",
    "                      FROM `bigquery-public-data.chicago_taxi_trips.taxi_trips`\n",
    "                      WHERE trip_start_timestamp > '2016-01-01' AND trip_start_timestamp < '2016-04-01'\n",
    "                      GROUP BY trip_date\n",
    "                      ORDER BY trip_date\n",
    "                      )\n",
    "                      SELECT trip_date,\n",
    "                          AVG(num_trips)\n",
    "                          OVER (\n",
    "                               ORDER BY trip_date\n",
    "                               ROWS BETWEEN 3 PRECEDING AND 3 FOLLOWING\n",
    "                               ) AS avg_num_trips\n",
    "                      FROM trips_by_day\n",
    "                      \"\"\"\n",
    "\n",
    "# Check your answer\n",
    "q_1.check()"
   ]
  },
  {
   "cell_type": "code",
   "execution_count": 4,
   "id": "09b7545f",
   "metadata": {
    "execution": {
     "iopub.execute_input": "2024-03-13T16:44:25.946887Z",
     "iopub.status.busy": "2024-03-13T16:44:25.946142Z",
     "iopub.status.idle": "2024-03-13T16:44:25.950778Z",
     "shell.execute_reply": "2024-03-13T16:44:25.949949Z"
    },
    "papermill": {
     "duration": 0.016388,
     "end_time": "2024-03-13T16:44:25.953002",
     "exception": false,
     "start_time": "2024-03-13T16:44:25.936614",
     "status": "completed"
    },
    "tags": []
   },
   "outputs": [],
   "source": [
    "# Lines below will give you a hint or solution code\n",
    "#q_1.hint()\n",
    "#q_1.solution()"
   ]
  },
  {
   "cell_type": "markdown",
   "id": "76b95538",
   "metadata": {
    "papermill": {
     "duration": 0.007259,
     "end_time": "2024-03-13T16:44:25.968029",
     "exception": false,
     "start_time": "2024-03-13T16:44:25.960770",
     "status": "completed"
    },
    "tags": []
   },
   "source": [
    "### 2) Can you separate and order trips by community area?\n",
    "\n",
    "The query below returns a DataFrame with three columns from the table: `pickup_community_area`, `trip_start_timestamp`, and `trip_end_timestamp`.  \n",
    "\n",
    "Amend the query to return an additional column called `trip_number` which shows the order in which the trips were taken from their respective community areas.  So, the first trip of the day originating from community area 1 should receive a value of 1; the second trip of the day from the same area should receive a value of 2.  Likewise, the first trip of the day from community area 2 should receive a value of 1, and so on.\n",
    "\n",
    "Note that there are many numbering functions that can be used to solve this problem (depending on how you want to deal with trips that started at the same time from the same community area); to answer this question, please use the **RANK()** function."
   ]
  },
  {
   "cell_type": "code",
   "execution_count": 5,
   "id": "466210cc",
   "metadata": {
    "execution": {
     "iopub.execute_input": "2024-03-13T16:44:25.987198Z",
     "iopub.status.busy": "2024-03-13T16:44:25.986422Z",
     "iopub.status.idle": "2024-03-13T16:44:28.686209Z",
     "shell.execute_reply": "2024-03-13T16:44:28.684766Z"
    },
    "papermill": {
     "duration": 2.71269,
     "end_time": "2024-03-13T16:44:28.689059",
     "exception": false,
     "start_time": "2024-03-13T16:44:25.976369",
     "status": "completed"
    },
    "tags": []
   },
   "outputs": [
    {
     "data": {
      "text/html": [
       "<div>\n",
       "<style scoped>\n",
       "    .dataframe tbody tr th:only-of-type {\n",
       "        vertical-align: middle;\n",
       "    }\n",
       "\n",
       "    .dataframe tbody tr th {\n",
       "        vertical-align: top;\n",
       "    }\n",
       "\n",
       "    .dataframe thead th {\n",
       "        text-align: right;\n",
       "    }\n",
       "</style>\n",
       "<table border=\"1\" class=\"dataframe\">\n",
       "  <thead>\n",
       "    <tr style=\"text-align: right;\">\n",
       "      <th></th>\n",
       "      <th>pickup_community_area</th>\n",
       "      <th>trip_start_timestamp</th>\n",
       "      <th>trip_end_timestamp</th>\n",
       "      <th>trip_number</th>\n",
       "    </tr>\n",
       "  </thead>\n",
       "  <tbody>\n",
       "    <tr>\n",
       "      <th>0</th>\n",
       "      <td>44.0</td>\n",
       "      <td>2013-10-03 06:15:00+00:00</td>\n",
       "      <td>2013-10-03 06:15:00+00:00</td>\n",
       "      <td>1</td>\n",
       "    </tr>\n",
       "    <tr>\n",
       "      <th>1</th>\n",
       "      <td>44.0</td>\n",
       "      <td>2013-10-03 07:15:00+00:00</td>\n",
       "      <td>2013-10-03 07:15:00+00:00</td>\n",
       "      <td>2</td>\n",
       "    </tr>\n",
       "    <tr>\n",
       "      <th>2</th>\n",
       "      <td>44.0</td>\n",
       "      <td>2013-10-03 07:30:00+00:00</td>\n",
       "      <td>2013-10-03 08:00:00+00:00</td>\n",
       "      <td>3</td>\n",
       "    </tr>\n",
       "    <tr>\n",
       "      <th>3</th>\n",
       "      <td>44.0</td>\n",
       "      <td>2013-10-03 08:45:00+00:00</td>\n",
       "      <td>2013-10-03 09:15:00+00:00</td>\n",
       "      <td>4</td>\n",
       "    </tr>\n",
       "    <tr>\n",
       "      <th>4</th>\n",
       "      <td>44.0</td>\n",
       "      <td>2013-10-03 10:15:00+00:00</td>\n",
       "      <td>2013-10-03 10:30:00+00:00</td>\n",
       "      <td>5</td>\n",
       "    </tr>\n",
       "  </tbody>\n",
       "</table>\n",
       "</div>"
      ],
      "text/plain": [
       "   pickup_community_area      trip_start_timestamp        trip_end_timestamp  \\\n",
       "0                   44.0 2013-10-03 06:15:00+00:00 2013-10-03 06:15:00+00:00   \n",
       "1                   44.0 2013-10-03 07:15:00+00:00 2013-10-03 07:15:00+00:00   \n",
       "2                   44.0 2013-10-03 07:30:00+00:00 2013-10-03 08:00:00+00:00   \n",
       "3                   44.0 2013-10-03 08:45:00+00:00 2013-10-03 09:15:00+00:00   \n",
       "4                   44.0 2013-10-03 10:15:00+00:00 2013-10-03 10:30:00+00:00   \n",
       "\n",
       "   trip_number  \n",
       "0            1  \n",
       "1            2  \n",
       "2            3  \n",
       "3            4  \n",
       "4            5  "
      ]
     },
     "metadata": {},
     "output_type": "display_data"
    },
    {
     "data": {
      "application/javascript": [
       "parent.postMessage({\"jupyterEvent\": \"custom.exercise_interaction\", \"data\": {\"outcomeType\": 1, \"valueTowardsCompletion\": 0.3333333333333333, \"interactionType\": 1, \"questionType\": 2, \"questionId\": \"2_CommunityArea\", \"learnToolsVersion\": \"0.3.4\", \"failureMessage\": \"\", \"exceptionClass\": \"\", \"trace\": \"\"}}, \"*\")"
      ],
      "text/plain": [
       "<IPython.core.display.Javascript object>"
      ]
     },
     "metadata": {},
     "output_type": "display_data"
    },
    {
     "data": {
      "text/markdown": [
       "<span style=\"color:#33cc33\">Correct</span>"
      ],
      "text/plain": [
       "Correct"
      ]
     },
     "metadata": {},
     "output_type": "display_data"
    }
   ],
   "source": [
    "# Amend the query below\n",
    "trip_number_query = \"\"\"\n",
    "                    SELECT pickup_community_area,\n",
    "                        trip_start_timestamp,\n",
    "                        trip_end_timestamp,\n",
    "                        RANK()\n",
    "                            OVER (\n",
    "                                PARTITION BY pickup_community_area\n",
    "                                ORDER BY trip_start_timestamp\n",
    "                                ) AS trip_number\n",
    "                    FROM `bigquery-public-data.chicago_taxi_trips.taxi_trips`\n",
    "                    WHERE DATE(trip_start_timestamp) = '2013-10-03'\n",
    "                    \"\"\"\n",
    "\n",
    "# Check your answer\n",
    "q_2.check()"
   ]
  },
  {
   "cell_type": "code",
   "execution_count": 6,
   "id": "6e67ab39",
   "metadata": {
    "execution": {
     "iopub.execute_input": "2024-03-13T16:44:28.708977Z",
     "iopub.status.busy": "2024-03-13T16:44:28.708525Z",
     "iopub.status.idle": "2024-03-13T16:44:28.713262Z",
     "shell.execute_reply": "2024-03-13T16:44:28.712054Z"
    },
    "papermill": {
     "duration": 0.017878,
     "end_time": "2024-03-13T16:44:28.715740",
     "exception": false,
     "start_time": "2024-03-13T16:44:28.697862",
     "status": "completed"
    },
    "tags": []
   },
   "outputs": [],
   "source": [
    "# Lines below will give you a hint or solution code\n",
    "#q_2.hint()\n",
    "#q_2.solution()"
   ]
  },
  {
   "cell_type": "markdown",
   "id": "a22eeb15",
   "metadata": {
    "papermill": {
     "duration": 0.008637,
     "end_time": "2024-03-13T16:44:28.733247",
     "exception": false,
     "start_time": "2024-03-13T16:44:28.724610",
     "status": "completed"
    },
    "tags": []
   },
   "source": [
    "### 3) How much time elapses between trips?\n",
    "\n",
    "The (partial) query in the code cell below shows, for each trip in the selected time frame, the corresponding `taxi_id`, `trip_start_timestamp`, and `trip_end_timestamp`. \n",
    "\n",
    "Your task in this exercise is to edit the query to include an additional `prev_break` column that shows the length of the break (in minutes) that the driver had before each trip started (this corresponds to the time between `trip_start_timestamp` of the current trip and `trip_end_timestamp` of the previous trip).  Partition the calculation by `taxi_id`, and order the results within each partition by `trip_start_timestamp`.\n",
    "\n",
    "Some sample results are shown below, where all rows correspond to the same driver (or `taxi_id`).  Take the time now to make sure that the values in the `prev_break` column make sense to you!\n",
    "\n",
    "![first_commands](https://storage.googleapis.com/kaggle-media/learn/images/qjvQzg8.png)\n",
    "\n",
    "Note that the first trip of the day for each driver should have a value of **NaN** (not a number) in the `prev_break` column."
   ]
  },
  {
   "cell_type": "code",
   "execution_count": 7,
   "id": "041c0daf",
   "metadata": {
    "execution": {
     "iopub.execute_input": "2024-03-13T16:44:28.753028Z",
     "iopub.status.busy": "2024-03-13T16:44:28.752542Z",
     "iopub.status.idle": "2024-03-13T16:44:33.314903Z",
     "shell.execute_reply": "2024-03-13T16:44:33.312971Z"
    },
    "papermill": {
     "duration": 4.575827,
     "end_time": "2024-03-13T16:44:33.318025",
     "exception": false,
     "start_time": "2024-03-13T16:44:28.742198",
     "status": "completed"
    },
    "tags": []
   },
   "outputs": [
    {
     "data": {
      "text/html": [
       "<div>\n",
       "<style scoped>\n",
       "    .dataframe tbody tr th:only-of-type {\n",
       "        vertical-align: middle;\n",
       "    }\n",
       "\n",
       "    .dataframe tbody tr th {\n",
       "        vertical-align: top;\n",
       "    }\n",
       "\n",
       "    .dataframe thead th {\n",
       "        text-align: right;\n",
       "    }\n",
       "</style>\n",
       "<table border=\"1\" class=\"dataframe\">\n",
       "  <thead>\n",
       "    <tr style=\"text-align: right;\">\n",
       "      <th></th>\n",
       "      <th>taxi_id</th>\n",
       "      <th>trip_start_timestamp</th>\n",
       "      <th>trip_end_timestamp</th>\n",
       "      <th>prev_break</th>\n",
       "    </tr>\n",
       "  </thead>\n",
       "  <tbody>\n",
       "    <tr>\n",
       "      <th>0</th>\n",
       "      <td>0f1b65c1c73b1a8a687054ea0bb175edd243a5d065d7fa...</td>\n",
       "      <td>2013-10-03 15:45:00+00:00</td>\n",
       "      <td>2013-10-03 16:00:00+00:00</td>\n",
       "      <td>180.0</td>\n",
       "    </tr>\n",
       "    <tr>\n",
       "      <th>1</th>\n",
       "      <td>19fbaf2c91768dbdf4d25436a17f9f99da4330f1af0d66...</td>\n",
       "      <td>2013-10-03 13:30:00+00:00</td>\n",
       "      <td>2013-10-03 13:45:00+00:00</td>\n",
       "      <td>225.0</td>\n",
       "    </tr>\n",
       "    <tr>\n",
       "      <th>2</th>\n",
       "      <td>30b02068f1c857f6fd5144c600f3e61acb5f5456e5fb0e...</td>\n",
       "      <td>2013-10-03 07:00:00+00:00</td>\n",
       "      <td>2013-10-03 07:00:00+00:00</td>\n",
       "      <td>210.0</td>\n",
       "    </tr>\n",
       "    <tr>\n",
       "      <th>3</th>\n",
       "      <td>35467b44491f6f51eaa0f4fb1cd65e4c23117aa268d9dd...</td>\n",
       "      <td>2013-10-03 16:00:00+00:00</td>\n",
       "      <td>2013-10-03 16:00:00+00:00</td>\n",
       "      <td>-45.0</td>\n",
       "    </tr>\n",
       "    <tr>\n",
       "      <th>4</th>\n",
       "      <td>35467b44491f6f51eaa0f4fb1cd65e4c23117aa268d9dd...</td>\n",
       "      <td>2013-10-03 18:30:00+00:00</td>\n",
       "      <td>2013-10-03 19:15:00+00:00</td>\n",
       "      <td>150.0</td>\n",
       "    </tr>\n",
       "  </tbody>\n",
       "</table>\n",
       "</div>"
      ],
      "text/plain": [
       "                                             taxi_id  \\\n",
       "0  0f1b65c1c73b1a8a687054ea0bb175edd243a5d065d7fa...   \n",
       "1  19fbaf2c91768dbdf4d25436a17f9f99da4330f1af0d66...   \n",
       "2  30b02068f1c857f6fd5144c600f3e61acb5f5456e5fb0e...   \n",
       "3  35467b44491f6f51eaa0f4fb1cd65e4c23117aa268d9dd...   \n",
       "4  35467b44491f6f51eaa0f4fb1cd65e4c23117aa268d9dd...   \n",
       "\n",
       "       trip_start_timestamp        trip_end_timestamp  prev_break  \n",
       "0 2013-10-03 15:45:00+00:00 2013-10-03 16:00:00+00:00       180.0  \n",
       "1 2013-10-03 13:30:00+00:00 2013-10-03 13:45:00+00:00       225.0  \n",
       "2 2013-10-03 07:00:00+00:00 2013-10-03 07:00:00+00:00       210.0  \n",
       "3 2013-10-03 16:00:00+00:00 2013-10-03 16:00:00+00:00       -45.0  \n",
       "4 2013-10-03 18:30:00+00:00 2013-10-03 19:15:00+00:00       150.0  "
      ]
     },
     "metadata": {},
     "output_type": "display_data"
    },
    {
     "data": {
      "application/javascript": [
       "parent.postMessage({\"jupyterEvent\": \"custom.exercise_interaction\", \"data\": {\"outcomeType\": 1, \"valueTowardsCompletion\": 0.3333333333333333, \"interactionType\": 1, \"questionType\": 2, \"questionId\": \"3_BreakTime\", \"learnToolsVersion\": \"0.3.4\", \"failureMessage\": \"\", \"exceptionClass\": \"\", \"trace\": \"\"}}, \"*\")"
      ],
      "text/plain": [
       "<IPython.core.display.Javascript object>"
      ]
     },
     "metadata": {},
     "output_type": "display_data"
    },
    {
     "data": {
      "text/markdown": [
       "<span style=\"color:#33cc33\">Correct</span>"
      ],
      "text/plain": [
       "Correct"
      ]
     },
     "metadata": {},
     "output_type": "display_data"
    }
   ],
   "source": [
    "# Fill in the blanks below\n",
    "break_time_query = \"\"\"\n",
    "                   SELECT taxi_id,\n",
    "                       trip_start_timestamp,\n",
    "                       trip_end_timestamp,\n",
    "                       TIMESTAMP_DIFF(\n",
    "                           trip_start_timestamp, \n",
    "                           LAG(trip_end_timestamp) \n",
    "                               OVER (\n",
    "                                    PARTITION BY taxi_id\n",
    "                                    ORDER BY trip_start_timestamp), \n",
    "                           MINUTE) as prev_break\n",
    "                   FROM `bigquery-public-data.chicago_taxi_trips.taxi_trips`\n",
    "                   WHERE DATE(trip_start_timestamp) = '2013-10-03' \n",
    "                   \"\"\"\n",
    "\n",
    "# Check your answer\n",
    "q_3.check()"
   ]
  },
  {
   "cell_type": "code",
   "execution_count": 8,
   "id": "e1c9b129",
   "metadata": {
    "execution": {
     "iopub.execute_input": "2024-03-13T16:44:33.344052Z",
     "iopub.status.busy": "2024-03-13T16:44:33.343610Z",
     "iopub.status.idle": "2024-03-13T16:44:33.349321Z",
     "shell.execute_reply": "2024-03-13T16:44:33.348039Z"
    },
    "papermill": {
     "duration": 0.024018,
     "end_time": "2024-03-13T16:44:33.352411",
     "exception": false,
     "start_time": "2024-03-13T16:44:33.328393",
     "status": "completed"
    },
    "tags": []
   },
   "outputs": [],
   "source": [
    "# Lines below will give you a hint or solution code\n",
    "#q_3.hint()\n",
    "#q_3.solution()"
   ]
  },
  {
   "cell_type": "markdown",
   "id": "cc5f29bb",
   "metadata": {
    "papermill": {
     "duration": 0.008677,
     "end_time": "2024-03-13T16:44:33.370405",
     "exception": false,
     "start_time": "2024-03-13T16:44:33.361728",
     "status": "completed"
    },
    "tags": []
   },
   "source": [
    "# Keep going\n",
    "\n",
    "Move on to learn how to query **[nested and repeated data](https://www.kaggle.com/alexisbcook/nested-and-repeated-data)**."
   ]
  },
  {
   "cell_type": "markdown",
   "id": "d7fa97cd",
   "metadata": {
    "papermill": {
     "duration": 0.009167,
     "end_time": "2024-03-13T16:44:33.388723",
     "exception": false,
     "start_time": "2024-03-13T16:44:33.379556",
     "status": "completed"
    },
    "tags": []
   },
   "source": [
    "---\n",
    "\n",
    "\n",
    "\n",
    "\n",
    "*Have questions or comments? Visit the [course discussion forum](https://www.kaggle.com/learn/advanced-sql/discussion) to chat with other learners.*"
   ]
  }
 ],
 "metadata": {
  "kaggle": {
   "accelerator": "none",
   "dataSources": [
    {
     "datasetId": 22219,
     "sourceId": 28536,
     "sourceType": "datasetVersion"
    }
   ],
   "isGpuEnabled": false,
   "isInternetEnabled": true,
   "language": "python",
   "sourceType": "notebook"
  },
  "kernelspec": {
   "display_name": "Python 3",
   "language": "python",
   "name": "python3"
  },
  "language_info": {
   "codemirror_mode": {
    "name": "ipython",
    "version": 3
   },
   "file_extension": ".py",
   "mimetype": "text/x-python",
   "name": "python",
   "nbconvert_exporter": "python",
   "pygments_lexer": "ipython3",
   "version": "3.10.13"
  },
  "papermill": {
   "default_parameters": {},
   "duration": 58.601491,
   "end_time": "2024-03-13T16:44:34.524788",
   "environment_variables": {},
   "exception": null,
   "input_path": "__notebook__.ipynb",
   "output_path": "__notebook__.ipynb",
   "parameters": {},
   "start_time": "2024-03-13T16:43:35.923297",
   "version": "2.5.0"
  }
 },
 "nbformat": 4,
 "nbformat_minor": 5
}
